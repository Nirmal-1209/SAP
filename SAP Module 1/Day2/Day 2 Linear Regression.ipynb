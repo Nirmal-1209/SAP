{
 "cells": [
  {
   "cell_type": "code",
   "execution_count": 1,
   "id": "252758e5-1b66-45f9-a016-99bcd96b73f4",
   "metadata": {},
   "outputs": [],
   "source": [
    "import matplotlib.pyplot as plt\n",
    "import pandas as pd\n",
    "import numpy as np"
   ]
  },
  {
   "cell_type": "code",
   "execution_count": 4,
   "id": "8f269119-f4de-4446-8ccf-fbfb6429cfd9",
   "metadata": {},
   "outputs": [],
   "source": [
    "df = pd.read_csv('House_price_pridiction.csv')"
   ]
  },
  {
   "cell_type": "code",
   "execution_count": 5,
   "id": "97e2ba8a-ddd7-4189-a5c0-0febf2243262",
   "metadata": {},
   "outputs": [
    {
     "data": {
      "text/html": [
       "<div>\n",
       "<style scoped>\n",
       "    .dataframe tbody tr th:only-of-type {\n",
       "        vertical-align: middle;\n",
       "    }\n",
       "\n",
       "    .dataframe tbody tr th {\n",
       "        vertical-align: top;\n",
       "    }\n",
       "\n",
       "    .dataframe thead th {\n",
       "        text-align: right;\n",
       "    }\n",
       "</style>\n",
       "<table border=\"1\" class=\"dataframe\">\n",
       "  <thead>\n",
       "    <tr style=\"text-align: right;\">\n",
       "      <th></th>\n",
       "      <th>bedrooms</th>\n",
       "      <th>bathrooms</th>\n",
       "      <th>sqft_living</th>\n",
       "      <th>floors</th>\n",
       "      <th>price</th>\n",
       "    </tr>\n",
       "  </thead>\n",
       "  <tbody>\n",
       "    <tr>\n",
       "      <th>0</th>\n",
       "      <td>3</td>\n",
       "      <td>1.50</td>\n",
       "      <td>1340</td>\n",
       "      <td>1.5</td>\n",
       "      <td>3.130000e+05</td>\n",
       "    </tr>\n",
       "    <tr>\n",
       "      <th>1</th>\n",
       "      <td>5</td>\n",
       "      <td>2.50</td>\n",
       "      <td>3650</td>\n",
       "      <td>2.0</td>\n",
       "      <td>2.384000e+06</td>\n",
       "    </tr>\n",
       "    <tr>\n",
       "      <th>2</th>\n",
       "      <td>3</td>\n",
       "      <td>2.00</td>\n",
       "      <td>1930</td>\n",
       "      <td>1.0</td>\n",
       "      <td>3.420000e+05</td>\n",
       "    </tr>\n",
       "    <tr>\n",
       "      <th>3</th>\n",
       "      <td>3</td>\n",
       "      <td>2.25</td>\n",
       "      <td>2000</td>\n",
       "      <td>1.0</td>\n",
       "      <td>4.200000e+05</td>\n",
       "    </tr>\n",
       "    <tr>\n",
       "      <th>4</th>\n",
       "      <td>4</td>\n",
       "      <td>2.50</td>\n",
       "      <td>1940</td>\n",
       "      <td>1.0</td>\n",
       "      <td>5.500000e+05</td>\n",
       "    </tr>\n",
       "    <tr>\n",
       "      <th>...</th>\n",
       "      <td>...</td>\n",
       "      <td>...</td>\n",
       "      <td>...</td>\n",
       "      <td>...</td>\n",
       "      <td>...</td>\n",
       "    </tr>\n",
       "    <tr>\n",
       "      <th>4595</th>\n",
       "      <td>3</td>\n",
       "      <td>1.75</td>\n",
       "      <td>1510</td>\n",
       "      <td>1.0</td>\n",
       "      <td>3.081667e+05</td>\n",
       "    </tr>\n",
       "    <tr>\n",
       "      <th>4596</th>\n",
       "      <td>3</td>\n",
       "      <td>2.50</td>\n",
       "      <td>1460</td>\n",
       "      <td>2.0</td>\n",
       "      <td>5.343333e+05</td>\n",
       "    </tr>\n",
       "    <tr>\n",
       "      <th>4597</th>\n",
       "      <td>3</td>\n",
       "      <td>2.50</td>\n",
       "      <td>3010</td>\n",
       "      <td>2.0</td>\n",
       "      <td>4.169042e+05</td>\n",
       "    </tr>\n",
       "    <tr>\n",
       "      <th>4598</th>\n",
       "      <td>4</td>\n",
       "      <td>2.00</td>\n",
       "      <td>2090</td>\n",
       "      <td>1.0</td>\n",
       "      <td>2.034000e+05</td>\n",
       "    </tr>\n",
       "    <tr>\n",
       "      <th>4599</th>\n",
       "      <td>3</td>\n",
       "      <td>2.50</td>\n",
       "      <td>1490</td>\n",
       "      <td>2.0</td>\n",
       "      <td>2.206000e+05</td>\n",
       "    </tr>\n",
       "  </tbody>\n",
       "</table>\n",
       "<p>4600 rows × 5 columns</p>\n",
       "</div>"
      ],
      "text/plain": [
       "      bedrooms  bathrooms  sqft_living  floors         price\n",
       "0            3       1.50         1340     1.5  3.130000e+05\n",
       "1            5       2.50         3650     2.0  2.384000e+06\n",
       "2            3       2.00         1930     1.0  3.420000e+05\n",
       "3            3       2.25         2000     1.0  4.200000e+05\n",
       "4            4       2.50         1940     1.0  5.500000e+05\n",
       "...        ...        ...          ...     ...           ...\n",
       "4595         3       1.75         1510     1.0  3.081667e+05\n",
       "4596         3       2.50         1460     2.0  5.343333e+05\n",
       "4597         3       2.50         3010     2.0  4.169042e+05\n",
       "4598         4       2.00         2090     1.0  2.034000e+05\n",
       "4599         3       2.50         1490     2.0  2.206000e+05\n",
       "\n",
       "[4600 rows x 5 columns]"
      ]
     },
     "execution_count": 5,
     "metadata": {},
     "output_type": "execute_result"
    }
   ],
   "source": [
    "df"
   ]
  },
  {
   "cell_type": "code",
   "execution_count": 14,
   "id": "01628c5c-07d9-4b83-b189-b13f7a97f189",
   "metadata": {},
   "outputs": [
    {
     "data": {
      "text/plain": [
       "Text(0, 0.5, 'Price')"
      ]
     },
     "execution_count": 14,
     "metadata": {},
     "output_type": "execute_result"
    },
    {
     "data": {
      "image/png": "[encoded data removed]",
      "text/plain": [
       "<Figure size 640x480 with 1 Axes>"
      ]
     },
     "metadata": {},
     "output_type": "display_data"
    }
   ],
   "source": [
    "plt.scatter(df['bedrooms'], df['price'])\n",
    "plt.xlabel('Bedrooms')\n",
    "plt.ylabel('Price')"
   ]
  },
  {
   "cell_type": "code",
   "execution_count": 19,
   "id": "51b50565-1686-446d-92f6-cd5955ebcb22",
   "metadata": {},
   "outputs": [],
   "source": [
    "X = df.iloc[:, 0:1]"
   ]
  },
  {
   "cell_type": "code",
   "execution_count": 20,
   "id": "643f7cfe-491f-429d-9db7-dbdc7f4091e4",
   "metadata": {},
   "outputs": [],
   "source": [
    "y = df.iloc[:, -1]"
   ]
  },
  {
   "cell_type": "code",
   "execution_count": 21,
   "id": "651204fa-a4f3-4219-951e-3699542ee57c",
   "metadata": {},
   "outputs": [
    {
     "data": {
      "text/html": [
       "<div>\n",
       "<style scoped>\n",
       "    .dataframe tbody tr th:only-of-type {\n",
       "        vertical-align: middle;\n",
       "    }\n",
       "\n",
       "    .dataframe tbody tr th {\n",
       "        vertical-align: top;\n",
       "    }\n",
       "\n",
       "    .dataframe thead th {\n",
       "        text-align: right;\n",
       "    }\n",
       "</style>\n",
       "<table border=\"1\" class=\"dataframe\">\n",
       "  <thead>\n",
       "    <tr style=\"text-align: right;\">\n",
       "      <th></th>\n",
       "      <th>bedrooms</th>\n",
       "    </tr>\n",
       "  </thead>\n",
       "  <tbody>\n",
       "    <tr>\n",
       "      <th>0</th>\n",
       "      <td>3</td>\n",
       "    </tr>\n",
       "    <tr>\n",
       "      <th>1</th>\n",
       "      <td>5</td>\n",
       "    </tr>\n",
       "    <tr>\n",
       "      <th>2</th>\n",
       "      <td>3</td>\n",
       "    </tr>\n",
       "    <tr>\n",
       "      <th>3</th>\n",
       "      <td>3</td>\n",
       "    </tr>\n",
       "    <tr>\n",
       "      <th>4</th>\n",
       "      <td>4</td>\n",
       "    </tr>\n",
       "    <tr>\n",
       "      <th>...</th>\n",
       "      <td>...</td>\n",
       "    </tr>\n",
       "    <tr>\n",
       "      <th>4595</th>\n",
       "      <td>3</td>\n",
       "    </tr>\n",
       "    <tr>\n",
       "      <th>4596</th>\n",
       "      <td>3</td>\n",
       "    </tr>\n",
       "    <tr>\n",
       "      <th>4597</th>\n",
       "      <td>3</td>\n",
       "    </tr>\n",
       "    <tr>\n",
       "      <th>4598</th>\n",
       "      <td>4</td>\n",
       "    </tr>\n",
       "    <tr>\n",
       "      <th>4599</th>\n",
       "      <td>3</td>\n",
       "    </tr>\n",
       "  </tbody>\n",
       "</table>\n",
       "<p>4600 rows × 1 columns</p>\n",
       "</div>"
      ],
      "text/plain": [
       "      bedrooms\n",
       "0            3\n",
       "1            5\n",
       "2            3\n",
       "3            3\n",
       "4            4\n",
       "...        ...\n",
       "4595         3\n",
       "4596         3\n",
       "4597         3\n",
       "4598         4\n",
       "4599         3\n",
       "\n",
       "[4600 rows x 1 columns]"
      ]
     },
     "execution_count": 21,
     "metadata": {},
     "output_type": "execute_result"
    }
   ],
   "source": [
    "X"
   ]
  },
  {
   "cell_type": "code",
   "execution_count": 22,
   "id": "41632187-d956-4637-b39b-5498318c9a28",
   "metadata": {},
   "outputs": [
    {
     "data": {
      "text/plain": [
       "0       3.130000e+05\n",
       "1       2.384000e+06\n",
       "2       3.420000e+05\n",
       "3       4.200000e+05\n",
       "4       5.500000e+05\n",
       "            ...     \n",
       "4595    3.081667e+05\n",
       "4596    5.343333e+05\n",
       "4597    4.169042e+05\n",
       "4598    2.034000e+05\n",
       "4599    2.206000e+05\n",
       "Name: price, Length: 4600, dtype: float64"
      ]
     },
     "execution_count": 22,
     "metadata": {},
     "output_type": "execute_result"
    }
   ],
   "source": [
    "y"
   ]
  },
  {
   "cell_type": "code",
   "execution_count": 24,
   "id": "4967b399-7ca9-4fc4-ad01-680e76ec9445",
   "metadata": {},
   "outputs": [],
   "source": [
    "from sklearn.model_selection import train_test_split\n",
    "X_train, X_test, y_train, y_test = train_test_split(X, y, test_size=0.2, random_state = 2)"
   ]
  },
  {
   "cell_type": "code",
   "execution_count": 25,
   "id": "2a0ac9d8-058c-4d0d-8949-89da506e1938",
   "metadata": {},
   "outputs": [],
   "source": [
    "from sklearn.linear_model import LinearRegression"
   ]
  },
  {
   "cell_type": "code",
   "execution_count": 28,
   "id": "c8f13219-9a1e-48aa-aec7-8e29d86adf9a",
   "metadata": {},
   "outputs": [],
   "source": [
    "lr = LinearRegression()"
   ]
  },
  {
   "cell_type": "code",
   "execution_count": 29,
   "id": "d5ee20ca-5686-4e2b-82b0-e8be6dbd8c41",
   "metadata": {},
   "outputs": [
    {
     "data": {
      "text/html": [
       "<style>#sk-container-id-1 {color: black;}#sk-container-id-1 pre{padding: 0;}#sk-container-id-1 div.sk-toggleable {background-color: white;}#sk-container-id-1 label.sk-toggleable__label {cursor: pointer;display: block;width: 100%;margin-bottom: 0;padding: 0.3em;box-sizing: border-box;text-align: center;}#sk-container-id-1 label.sk-toggleable__label-arrow:before {content: \"▸\";float: left;margin-right: 0.25em;color: #696969;}#sk-container-id-1 label.sk-toggleable__label-arrow:hover:before {color: black;}#sk-container-id-1 div.sk-estimator:hover label.sk-toggleable__label-arrow:before {color: black;}#sk-container-id-1 div.sk-toggleable__content {max-height: 0;max-width: 0;overflow: hidden;text-align: left;background-color: #f0f8ff;}#sk-container-id-1 div.sk-toggleable__content pre {margin: 0.2em;color: black;border-radius: 0.25em;background-color: #f0f8ff;}#sk-container-id-1 input.sk-toggleable__control:checked~div.sk-toggleable__content {max-height: 200px;max-width: 100%;overflow: auto;}#sk-container-id-1 input.sk-toggleable__control:checked~label.sk-toggleable__label-arrow:before {content: \"▾\";}#sk-container-id-1 div.sk-estimator input.sk-toggleable__control:checked~label.sk-toggleable__label {background-color: #d4ebff;}#sk-container-id-1 div.sk-label input.sk-toggleable__control:checked~label.sk-toggleable__label {background-color: #d4ebff;}#sk-container-id-1 input.sk-hidden--visually {border: 0;clip: rect(1px 1px 1px 1px);clip: rect(1px, 1px, 1px, 1px);height: 1px;margin: -1px;overflow: hidden;padding: 0;position: absolute;width: 1px;}#sk-container-id-1 div.sk-estimator {font-family: monospace;background-color: #f0f8ff;border: 1px dotted black;border-radius: 0.25em;box-sizing: border-box;margin-bottom: 0.5em;}#sk-container-id-1 div.sk-estimator:hover {background-color: #d4ebff;}#sk-container-id-1 div.sk-parallel-item::after {content: \"\";width: 100%;border-bottom: 1px solid gray;flex-grow: 1;}#sk-container-id-1 div.sk-label:hover label.sk-toggleable__label {background-color: #d4ebff;}#sk-container-id-1 div.sk-serial::before {content: \"\";position: absolute;border-left: 1px solid gray;box-sizing: border-box;top: 0;bottom: 0;left: 50%;z-index: 0;}#sk-container-id-1 div.sk-serial {display: flex;flex-direction: column;align-items: center;background-color: white;padding-right: 0.2em;padding-left: 0.2em;position: relative;}#sk-container-id-1 div.sk-item {position: relative;z-index: 1;}#sk-container-id-1 div.sk-parallel {display: flex;align-items: stretch;justify-content: center;background-color: white;position: relative;}#sk-container-id-1 div.sk-item::before, #sk-container-id-1 div.sk-parallel-item::before {content: \"\";position: absolute;border-left: 1px solid gray;box-sizing: border-box;top: 0;bottom: 0;left: 50%;z-index: -1;}#sk-container-id-1 div.sk-parallel-item {display: flex;flex-direction: column;z-index: 1;position: relative;background-color: white;}#sk-container-id-1 div.sk-parallel-item:first-child::after {align-self: flex-end;width: 50%;}#sk-container-id-1 div.sk-parallel-item:last-child::after {align-self: flex-start;width: 50%;}#sk-container-id-1 div.sk-parallel-item:only-child::after {width: 0;}#sk-container-id-1 div.sk-dashed-wrapped {border: 1px dashed gray;margin: 0 0.4em 0.5em 0.4em;box-sizing: border-box;padding-bottom: 0.4em;background-color: white;}#sk-container-id-1 div.sk-label label {font-family: monospace;font-weight: bold;display: inline-block;line-height: 1.2em;}#sk-container-id-1 div.sk-label-container {text-align: center;}#sk-container-id-1 div.sk-container {/* jupyter's `normalize.less` sets `[hidden] { display: none; }` but bootstrap.min.css set `[hidden] { display: none !important; }` so we also need the `!important` here to be able to override the default hidden behavior on the sphinx rendered scikit-learn.org. See: https://github.com/scikit-learn/scikit-learn/issues/21755 */display: inline-block !important;position: relative;}#sk-container-id-1 div.sk-text-repr-fallback {display: none;}</style><div id=\"sk-container-id-1\" class=\"sk-top-container\"><div class=\"sk-text-repr-fallback\"><pre>LinearRegression()</pre><b>In a Jupyter environment, please rerun this cell to show the HTML representation or trust the notebook. <br />On GitHub, the HTML representation is unable to render, please try loading this page with nbviewer.org.</b></div><div class=\"sk-container\" hidden><div class=\"sk-item\"><div class=\"sk-estimator sk-toggleable\"><input class=\"sk-toggleable__control sk-hidden--visually\" id=\"sk-estimator-id-1\" type=\"checkbox\" checked><label for=\"sk-estimator-id-1\" class=\"sk-toggleable__label sk-toggleable__label-arrow\">LinearRegression</label><div class=\"sk-toggleable__content\"><pre>LinearRegression()</pre></div></div></div></div></div>"
      ],
      "text/plain": [
       "LinearRegression()"
      ]
     },
     "execution_count": 29,
     "metadata": {},
     "output_type": "execute_result"
    }
   ],
   "source": [
    "lr.fit(X_train, y_train)"
   ]
  },
  {
   "cell_type": "code",
   "execution_count": 30,
   "id": "3d48979c-e615-40fc-95b3-32fbfb8761f8",
   "metadata": {},
   "outputs": [
    {
     "data": {
      "text/html": [
       "<div>\n",
       "<style scoped>\n",
       "    .dataframe tbody tr th:only-of-type {\n",
       "        vertical-align: middle;\n",
       "    }\n",
       "\n",
       "    .dataframe tbody tr th {\n",
       "        vertical-align: top;\n",
       "    }\n",
       "\n",
       "    .dataframe thead th {\n",
       "        text-align: right;\n",
       "    }\n",
       "</style>\n",
       "<table border=\"1\" class=\"dataframe\">\n",
       "  <thead>\n",
       "    <tr style=\"text-align: right;\">\n",
       "      <th></th>\n",
       "      <th>bedrooms</th>\n",
       "    </tr>\n",
       "  </thead>\n",
       "  <tbody>\n",
       "    <tr>\n",
       "      <th>2274</th>\n",
       "      <td>3</td>\n",
       "    </tr>\n",
       "    <tr>\n",
       "      <th>2735</th>\n",
       "      <td>3</td>\n",
       "    </tr>\n",
       "    <tr>\n",
       "      <th>4</th>\n",
       "      <td>4</td>\n",
       "    </tr>\n",
       "    <tr>\n",
       "      <th>133</th>\n",
       "      <td>2</td>\n",
       "    </tr>\n",
       "    <tr>\n",
       "      <th>1903</th>\n",
       "      <td>3</td>\n",
       "    </tr>\n",
       "    <tr>\n",
       "      <th>...</th>\n",
       "      <td>...</td>\n",
       "    </tr>\n",
       "    <tr>\n",
       "      <th>3335</th>\n",
       "      <td>6</td>\n",
       "    </tr>\n",
       "    <tr>\n",
       "      <th>1099</th>\n",
       "      <td>2</td>\n",
       "    </tr>\n",
       "    <tr>\n",
       "      <th>2514</th>\n",
       "      <td>3</td>\n",
       "    </tr>\n",
       "    <tr>\n",
       "      <th>3606</th>\n",
       "      <td>4</td>\n",
       "    </tr>\n",
       "    <tr>\n",
       "      <th>2575</th>\n",
       "      <td>5</td>\n",
       "    </tr>\n",
       "  </tbody>\n",
       "</table>\n",
       "<p>3680 rows × 1 columns</p>\n",
       "</div>"
      ],
      "text/plain": [
       "      bedrooms\n",
       "2274         3\n",
       "2735         3\n",
       "4            4\n",
       "133          2\n",
       "1903         3\n",
       "...        ...\n",
       "3335         6\n",
       "1099         2\n",
       "2514         3\n",
       "3606         4\n",
       "2575         5\n",
       "\n",
       "[3680 rows x 1 columns]"
      ]
     },
     "execution_count": 30,
     "metadata": {},
     "output_type": "execute_result"
    }
   ],
   "source": [
    "X_train"
   ]
  },
  {
   "cell_type": "code",
   "execution_count": 31,
   "id": "55875bfe-8b60-493f-b98c-80389e54f581",
   "metadata": {},
   "outputs": [
    {
     "data": {
      "text/plain": [
       "2274     522000.0\n",
       "2735     284950.0\n",
       "4        550000.0\n",
       "133     1425000.0\n",
       "1903     250500.0\n",
       "          ...    \n",
       "3335     305000.0\n",
       "1099     535000.0\n",
       "2514     397500.0\n",
       "3606     288790.0\n",
       "2575     632500.0\n",
       "Name: price, Length: 3680, dtype: float64"
      ]
     },
     "execution_count": 31,
     "metadata": {},
     "output_type": "execute_result"
    }
   ],
   "source": [
    "y_train"
   ]
  },
  {
   "cell_type": "code",
   "execution_count": 32,
   "id": "6e70bf33-21e9-4304-b715-8e72a602746e",
   "metadata": {},
   "outputs": [
    {
     "data": {
      "text/html": [
       "<div>\n",
       "<style scoped>\n",
       "    .dataframe tbody tr th:only-of-type {\n",
       "        vertical-align: middle;\n",
       "    }\n",
       "\n",
       "    .dataframe tbody tr th {\n",
       "        vertical-align: top;\n",
       "    }\n",
       "\n",
       "    .dataframe thead th {\n",
       "        text-align: right;\n",
       "    }\n",
       "</style>\n",
       "<table border=\"1\" class=\"dataframe\">\n",
       "  <thead>\n",
       "    <tr style=\"text-align: right;\">\n",
       "      <th></th>\n",
       "      <th>bedrooms</th>\n",
       "    </tr>\n",
       "  </thead>\n",
       "  <tbody>\n",
       "    <tr>\n",
       "      <th>4111</th>\n",
       "      <td>3</td>\n",
       "    </tr>\n",
       "    <tr>\n",
       "      <th>1996</th>\n",
       "      <td>4</td>\n",
       "    </tr>\n",
       "    <tr>\n",
       "      <th>2307</th>\n",
       "      <td>5</td>\n",
       "    </tr>\n",
       "    <tr>\n",
       "      <th>3607</th>\n",
       "      <td>2</td>\n",
       "    </tr>\n",
       "    <tr>\n",
       "      <th>1519</th>\n",
       "      <td>4</td>\n",
       "    </tr>\n",
       "    <tr>\n",
       "      <th>...</th>\n",
       "      <td>...</td>\n",
       "    </tr>\n",
       "    <tr>\n",
       "      <th>2516</th>\n",
       "      <td>4</td>\n",
       "    </tr>\n",
       "    <tr>\n",
       "      <th>993</th>\n",
       "      <td>4</td>\n",
       "    </tr>\n",
       "    <tr>\n",
       "      <th>3713</th>\n",
       "      <td>3</td>\n",
       "    </tr>\n",
       "    <tr>\n",
       "      <th>4541</th>\n",
       "      <td>3</td>\n",
       "    </tr>\n",
       "    <tr>\n",
       "      <th>3016</th>\n",
       "      <td>3</td>\n",
       "    </tr>\n",
       "  </tbody>\n",
       "</table>\n",
       "<p>920 rows × 1 columns</p>\n",
       "</div>"
      ],
      "text/plain": [
       "      bedrooms\n",
       "4111         3\n",
       "1996         4\n",
       "2307         5\n",
       "3607         2\n",
       "1519         4\n",
       "...        ...\n",
       "2516         4\n",
       "993          4\n",
       "3713         3\n",
       "4541         3\n",
       "3016         3\n",
       "\n",
       "[920 rows x 1 columns]"
      ]
     },
     "execution_count": 32,
     "metadata": {},
     "output_type": "execute_result"
    }
   ],
   "source": [
    "X_test"
   ]
  },
  {
   "cell_type": "code",
   "execution_count": 33,
   "id": "4bd89d85-2bef-4627-b22e-feaae9b21a94",
   "metadata": {},
   "outputs": [
    {
     "data": {
      "text/plain": [
       "4111     232000.0\n",
       "1996     299950.0\n",
       "2307    1085000.0\n",
       "3607     229800.0\n",
       "1519     499950.0\n",
       "          ...    \n",
       "2516     883000.0\n",
       "993      260000.0\n",
       "3713     219950.0\n",
       "4541     216000.0\n",
       "3016    1100000.0\n",
       "Name: price, Length: 920, dtype: float64"
      ]
     },
     "execution_count": 33,
     "metadata": {},
     "output_type": "execute_result"
    }
   ],
   "source": [
    "y_test"
   ]
  },
  {
   "cell_type": "code",
   "execution_count": 34,
   "id": "585109b7-7e8e-498c-b8f5-8cfb5009c83f",
   "metadata": {},
   "outputs": [
    {
     "name": "stdout",
     "output_type": "stream",
     "text": [
      "116599.6613501492\n"
     ]
    }
   ],
   "source": [
    "c = lr.intercept_\n",
    "print(c)"
   ]
  },
  {
   "cell_type": "code",
   "execution_count": 35,
   "id": "08cf96a1-df1b-480c-8826-78ab481dc342",
   "metadata": {},
   "outputs": [
    {
     "name": "stdout",
     "output_type": "stream",
     "text": [
      "[126733.05156914]\n"
     ]
    }
   ],
   "source": [
    "m = lr.coef_\n",
    "print(m)"
   ]
  },
  {
   "cell_type": "code",
   "execution_count": 46,
   "id": "37149298-768d-45c0-b2a2-e83e81645d2a",
   "metadata": {},
   "outputs": [
    {
     "data": {
      "text/plain": [
       "array([ 496798.81605756,  623531.8676267 ,  750264.91919584,\n",
       "        370065.76448842,  623531.8676267 ,  496798.81605756,\n",
       "        496798.81605756,  496798.81605756,  623531.8676267 ,\n",
       "        496798.81605756,  496798.81605756,  370065.76448842,\n",
       "        370065.76448842,  496798.81605756,  496798.81605756,\n",
       "        623531.8676267 ,  623531.8676267 ,  623531.8676267 ,\n",
       "        876997.97076498,  623531.8676267 ,  876997.97076498,\n",
       "        623531.8676267 ,  496798.81605756,  496798.81605756,\n",
       "        370065.76448842,  496798.81605756,  623531.8676267 ,\n",
       "        496798.81605756,  496798.81605756,  623531.8676267 ,\n",
       "        496798.81605756,  496798.81605756,  496798.81605756,\n",
       "        243332.71291929,  370065.76448842,  750264.91919584,\n",
       "        623531.8676267 ,  370065.76448842,  623531.8676267 ,\n",
       "        876997.97076498,  496798.81605756,  496798.81605756,\n",
       "        496798.81605756,  370065.76448842,  750264.91919584,\n",
       "        750264.91919584,  370065.76448842,  370065.76448842,\n",
       "        623531.8676267 ,  750264.91919584,  370065.76448842,\n",
       "        496798.81605756,  623531.8676267 ,  496798.81605756,\n",
       "        623531.8676267 ,  496798.81605756,  623531.8676267 ,\n",
       "        496798.81605756,  496798.81605756,  496798.81605756,\n",
       "        623531.8676267 ,  623531.8676267 ,  623531.8676267 ,\n",
       "        496798.81605756,  370065.76448842,  750264.91919584,\n",
       "        623531.8676267 ,  623531.8676267 ,  496798.81605756,\n",
       "        370065.76448842,  496798.81605756,  496798.81605756,\n",
       "        496798.81605756,  623531.8676267 ,  496798.81605756,\n",
       "        750264.91919584,  623531.8676267 ,  496798.81605756,\n",
       "        623531.8676267 ,  623531.8676267 ,  623531.8676267 ,\n",
       "        623531.8676267 ,  496798.81605756,  750264.91919584,\n",
       "        496798.81605756,  496798.81605756,  496798.81605756,\n",
       "        370065.76448842,  496798.81605756,  496798.81605756,\n",
       "        623531.8676267 ,  496798.81605756,  623531.8676267 ,\n",
       "        623531.8676267 ,  496798.81605756,  623531.8676267 ,\n",
       "        750264.91919584,  623531.8676267 ,  623531.8676267 ,\n",
       "        496798.81605756,  623531.8676267 ,  750264.91919584,\n",
       "        496798.81605756,  496798.81605756,  496798.81605756,\n",
       "        623531.8676267 ,  496798.81605756,  496798.81605756,\n",
       "        370065.76448842,  496798.81605756,  623531.8676267 ,\n",
       "        496798.81605756,  750264.91919584,  496798.81605756,\n",
       "        623531.8676267 ,  623531.8676267 ,  496798.81605756,\n",
       "        496798.81605756,  496798.81605756,  496798.81605756,\n",
       "        496798.81605756,  623531.8676267 ,  496798.81605756,\n",
       "        623531.8676267 ,  623531.8676267 ,  496798.81605756,\n",
       "        750264.91919584,  750264.91919584,  750264.91919584,\n",
       "        496798.81605756,  623531.8676267 ,  496798.81605756,\n",
       "        496798.81605756,  496798.81605756,  370065.76448842,\n",
       "        496798.81605756,  496798.81605756,  370065.76448842,\n",
       "        496798.81605756,  750264.91919584,  370065.76448842,\n",
       "        623531.8676267 ,  496798.81605756,  370065.76448842,\n",
       "        750264.91919584,  623531.8676267 ,  370065.76448842,\n",
       "        623531.8676267 ,  496798.81605756,  623531.8676267 ,\n",
       "        623531.8676267 ,  496798.81605756,  496798.81605756,\n",
       "        623531.8676267 ,  623531.8676267 ,  496798.81605756,\n",
       "        496798.81605756,  496798.81605756, 1257197.12547239,\n",
       "        496798.81605756,  496798.81605756,  496798.81605756,\n",
       "        623531.8676267 ,  370065.76448842,  623531.8676267 ,\n",
       "        496798.81605756,  370065.76448842,  496798.81605756,\n",
       "        370065.76448842,  496798.81605756,  623531.8676267 ,\n",
       "        496798.81605756,  623531.8676267 ,  750264.91919584,\n",
       "        496798.81605756,  370065.76448842,  750264.91919584,\n",
       "        370065.76448842,  496798.81605756,  496798.81605756,\n",
       "        496798.81605756,  750264.91919584,  370065.76448842,\n",
       "        496798.81605756,  496798.81605756,  496798.81605756,\n",
       "        496798.81605756,  496798.81605756,  750264.91919584,\n",
       "        623531.8676267 ,  496798.81605756,  496798.81605756,\n",
       "        370065.76448842,  623531.8676267 ,  623531.8676267 ,\n",
       "        496798.81605756,  623531.8676267 ,  496798.81605756,\n",
       "        750264.91919584,  370065.76448842,  496798.81605756,\n",
       "        496798.81605756,  496798.81605756,  496798.81605756,\n",
       "        623531.8676267 ,  496798.81605756,  496798.81605756,\n",
       "        623531.8676267 ,  496798.81605756,  623531.8676267 ,\n",
       "        370065.76448842,  496798.81605756,  370065.76448842,\n",
       "        370065.76448842,  623531.8676267 ,  496798.81605756,\n",
       "        623531.8676267 ,  496798.81605756,  623531.8676267 ,\n",
       "        496798.81605756,  750264.91919584,  623531.8676267 ,\n",
       "        750264.91919584,  496798.81605756,  496798.81605756,\n",
       "        496798.81605756,  370065.76448842,  370065.76448842,\n",
       "        750264.91919584,  623531.8676267 ,  496798.81605756,\n",
       "        623531.8676267 ,  496798.81605756,  496798.81605756,\n",
       "        370065.76448842,  876997.97076498,  370065.76448842,\n",
       "        496798.81605756,  370065.76448842,  623531.8676267 ,\n",
       "        623531.8676267 ,  623531.8676267 ,  623531.8676267 ,\n",
       "        370065.76448842,  496798.81605756,  496798.81605756,\n",
       "        496798.81605756,  496798.81605756,  623531.8676267 ,\n",
       "        623531.8676267 ,  496798.81605756,  750264.91919584,\n",
       "        623531.8676267 ,  370065.76448842,  370065.76448842,\n",
       "        623531.8676267 ,  623531.8676267 ,  623531.8676267 ,\n",
       "        623531.8676267 ,  370065.76448842,  370065.76448842,\n",
       "        496798.81605756,  876997.97076498,  496798.81605756,\n",
       "        496798.81605756,  496798.81605756,  623531.8676267 ,\n",
       "        623531.8676267 ,  496798.81605756,  496798.81605756,\n",
       "        623531.8676267 ,  623531.8676267 ,  496798.81605756,\n",
       "        623531.8676267 ,  496798.81605756,  623531.8676267 ,\n",
       "        370065.76448842,  496798.81605756,  750264.91919584,\n",
       "        496798.81605756,  496798.81605756,  750264.91919584,\n",
       "        496798.81605756,  623531.8676267 ,  623531.8676267 ,\n",
       "        496798.81605756,  496798.81605756,  496798.81605756,\n",
       "        623531.8676267 ,  496798.81605756,  623531.8676267 ,\n",
       "        496798.81605756,  623531.8676267 ,  496798.81605756,\n",
       "        750264.91919584,  496798.81605756,  496798.81605756,\n",
       "        623531.8676267 ,  496798.81605756,  750264.91919584,\n",
       "        623531.8676267 ,  370065.76448842,  496798.81605756,\n",
       "        496798.81605756,  496798.81605756,  623531.8676267 ,\n",
       "        496798.81605756,  496798.81605756,  496798.81605756,\n",
       "        496798.81605756,  496798.81605756,  243332.71291929,\n",
       "        370065.76448842,  496798.81605756,  496798.81605756,\n",
       "        496798.81605756,  370065.76448842,  623531.8676267 ,\n",
       "        623531.8676267 ,  496798.81605756,  370065.76448842,\n",
       "        750264.91919584,  496798.81605756,  623531.8676267 ,\n",
       "        750264.91919584,  496798.81605756,  370065.76448842,\n",
       "        370065.76448842,  370065.76448842,  623531.8676267 ,\n",
       "        370065.76448842,  496798.81605756,  623531.8676267 ,\n",
       "        496798.81605756,  496798.81605756,  623531.8676267 ,\n",
       "        496798.81605756,  496798.81605756,  370065.76448842,\n",
       "        623531.8676267 ,  496798.81605756,  623531.8676267 ,\n",
       "        496798.81605756,  623531.8676267 ,  623531.8676267 ,\n",
       "        496798.81605756,  496798.81605756,  876997.97076498,\n",
       "        750264.91919584,  623531.8676267 ,  623531.8676267 ,\n",
       "        496798.81605756,  496798.81605756,  623531.8676267 ,\n",
       "        496798.81605756,  623531.8676267 ,  623531.8676267 ,\n",
       "        623531.8676267 ,  496798.81605756,  496798.81605756,\n",
       "        496798.81605756,  496798.81605756,  750264.91919584,\n",
       "        496798.81605756,  496798.81605756,  623531.8676267 ,\n",
       "        623531.8676267 ,  496798.81605756,  496798.81605756,\n",
       "        496798.81605756,  496798.81605756,  496798.81605756,\n",
       "        496798.81605756,  370065.76448842,  623531.8676267 ,\n",
       "        750264.91919584,  496798.81605756,  496798.81605756,\n",
       "        370065.76448842,  496798.81605756,  370065.76448842,\n",
       "        496798.81605756,  623531.8676267 ,  623531.8676267 ,\n",
       "        623531.8676267 ,  496798.81605756,  750264.91919584,\n",
       "        623531.8676267 ,  496798.81605756,  496798.81605756,\n",
       "        623531.8676267 ,  496798.81605756,  623531.8676267 ,\n",
       "        496798.81605756,  623531.8676267 ,  496798.81605756,\n",
       "        623531.8676267 ,  496798.81605756,  496798.81605756,\n",
       "        496798.81605756,  623531.8676267 ,  496798.81605756,\n",
       "        623531.8676267 ,  370065.76448842,  623531.8676267 ,\n",
       "        496798.81605756,  370065.76448842,  496798.81605756,\n",
       "        496798.81605756,  496798.81605756,  623531.8676267 ,\n",
       "        496798.81605756,  370065.76448842,  370065.76448842,\n",
       "        496798.81605756,  496798.81605756,  496798.81605756,\n",
       "       1003731.02233411,  496798.81605756,  750264.91919584,\n",
       "        496798.81605756,  496798.81605756,  496798.81605756,\n",
       "        370065.76448842,  623531.8676267 ,  496798.81605756,\n",
       "        623531.8676267 ,  496798.81605756,  750264.91919584,\n",
       "        750264.91919584,  623531.8676267 ,  496798.81605756,\n",
       "        496798.81605756,  496798.81605756,  496798.81605756,\n",
       "        496798.81605756,  623531.8676267 ,  370065.76448842,\n",
       "        243332.71291929,  623531.8676267 ,  623531.8676267 ,\n",
       "        496798.81605756,  496798.81605756,  496798.81605756,\n",
       "        496798.81605756,  496798.81605756,  496798.81605756,\n",
       "        496798.81605756,  496798.81605756,  370065.76448842,\n",
       "        623531.8676267 ,  623531.8676267 ,  496798.81605756,\n",
       "        750264.91919584,  496798.81605756,  370065.76448842,\n",
       "        496798.81605756,  370065.76448842,  623531.8676267 ,\n",
       "        370065.76448842,  623531.8676267 ,  496798.81605756,\n",
       "        370065.76448842,  750264.91919584,  623531.8676267 ,\n",
       "        496798.81605756,  496798.81605756,  370065.76448842,\n",
       "        623531.8676267 ,  623531.8676267 ,  750264.91919584,\n",
       "        370065.76448842,  623531.8676267 ,  496798.81605756,\n",
       "        496798.81605756,  623531.8676267 ,  623531.8676267 ,\n",
       "        496798.81605756,  750264.91919584,  496798.81605756,\n",
       "        370065.76448842,  370065.76448842,  496798.81605756,\n",
       "        623531.8676267 ,  623531.8676267 ,  496798.81605756,\n",
       "        623531.8676267 ,  623531.8676267 ,  496798.81605756,\n",
       "        750264.91919584,  496798.81605756,  496798.81605756,\n",
       "        496798.81605756,  623531.8676267 ,  623531.8676267 ,\n",
       "        496798.81605756,  623531.8676267 ,  750264.91919584,\n",
       "        496798.81605756,  750264.91919584,  496798.81605756,\n",
       "        623531.8676267 ,  496798.81605756,  623531.8676267 ,\n",
       "        623531.8676267 ,  496798.81605756,  370065.76448842,\n",
       "        496798.81605756,  496798.81605756,  623531.8676267 ,\n",
       "        623531.8676267 ,  623531.8676267 ,  496798.81605756,\n",
       "        496798.81605756,  623531.8676267 ,  496798.81605756,\n",
       "        496798.81605756,  496798.81605756,  496798.81605756,\n",
       "        496798.81605756,  243332.71291929,  623531.8676267 ,\n",
       "        496798.81605756,  496798.81605756,  496798.81605756,\n",
       "        623531.8676267 ,  623531.8676267 ,  623531.8676267 ,\n",
       "        623531.8676267 ,  623531.8676267 ,  496798.81605756,\n",
       "        623531.8676267 ,  496798.81605756,  496798.81605756,\n",
       "        623531.8676267 ,  496798.81605756,  496798.81605756,\n",
       "        496798.81605756,  496798.81605756,  370065.76448842,\n",
       "        496798.81605756,  370065.76448842,  623531.8676267 ,\n",
       "        623531.8676267 ,  370065.76448842,  496798.81605756,\n",
       "        496798.81605756,  623531.8676267 ,  496798.81605756,\n",
       "        496798.81605756,  750264.91919584,  750264.91919584,\n",
       "        623531.8676267 ,  496798.81605756,  496798.81605756,\n",
       "        370065.76448842,  623531.8676267 ,  623531.8676267 ,\n",
       "        496798.81605756,  496798.81605756,  623531.8676267 ,\n",
       "        496798.81605756,  496798.81605756,  623531.8676267 ,\n",
       "        496798.81605756,  623531.8676267 ,  496798.81605756,\n",
       "        623531.8676267 ,  623531.8676267 ,  496798.81605756,\n",
       "        623531.8676267 ,  750264.91919584,  496798.81605756,\n",
       "        496798.81605756,  750264.91919584,  370065.76448842,\n",
       "        496798.81605756,  496798.81605756,  623531.8676267 ,\n",
       "        623531.8676267 ,  623531.8676267 ,  370065.76448842,\n",
       "        496798.81605756,  496798.81605756,  496798.81605756,\n",
       "        750264.91919584,  496798.81605756,  496798.81605756,\n",
       "        623531.8676267 ,  623531.8676267 ,  623531.8676267 ,\n",
       "        116599.66135015,  623531.8676267 ,  496798.81605756,\n",
       "        496798.81605756,  623531.8676267 ,  623531.8676267 ,\n",
       "        496798.81605756,  496798.81605756,  496798.81605756,\n",
       "        496798.81605756,  623531.8676267 ,  496798.81605756,\n",
       "        496798.81605756,  496798.81605756,  496798.81605756,\n",
       "        496798.81605756,  623531.8676267 ,  623531.8676267 ,\n",
       "        623531.8676267 ,  496798.81605756,  623531.8676267 ,\n",
       "        623531.8676267 ,  496798.81605756,  623531.8676267 ,\n",
       "        496798.81605756,  750264.91919584,  370065.76448842,\n",
       "        623531.8676267 ,  370065.76448842,  623531.8676267 ,\n",
       "        496798.81605756,  496798.81605756,  496798.81605756,\n",
       "        496798.81605756,  496798.81605756,  496798.81605756,\n",
       "        370065.76448842,  496798.81605756,  496798.81605756,\n",
       "        623531.8676267 ,  496798.81605756,  496798.81605756,\n",
       "        496798.81605756,  496798.81605756,  370065.76448842,\n",
       "        623531.8676267 ,  370065.76448842,  496798.81605756,\n",
       "        623531.8676267 ,  623531.8676267 ,  496798.81605756,\n",
       "        496798.81605756,  496798.81605756,  496798.81605756,\n",
       "        623531.8676267 ,  623531.8676267 ,  370065.76448842,\n",
       "        370065.76448842,  496798.81605756,  496798.81605756,\n",
       "        496798.81605756,  750264.91919584,  496798.81605756,\n",
       "        623531.8676267 ,  623531.8676267 ,  750264.91919584,\n",
       "        496798.81605756,  370065.76448842,  623531.8676267 ,\n",
       "        623531.8676267 ,  623531.8676267 ,  496798.81605756,\n",
       "        496798.81605756,  876997.97076498,  370065.76448842,\n",
       "        370065.76448842,  370065.76448842,  623531.8676267 ,\n",
       "        370065.76448842,  370065.76448842,  623531.8676267 ,\n",
       "        496798.81605756,  623531.8676267 ,  623531.8676267 ,\n",
       "        496798.81605756, 1003731.02233411,  623531.8676267 ,\n",
       "        370065.76448842,  496798.81605756,  623531.8676267 ,\n",
       "        623531.8676267 ,  623531.8676267 ,  496798.81605756,\n",
       "        496798.81605756,  496798.81605756,  370065.76448842,\n",
       "        496798.81605756,  623531.8676267 ,  623531.8676267 ,\n",
       "        496798.81605756,  496798.81605756,  496798.81605756,\n",
       "        496798.81605756,  623531.8676267 ,  496798.81605756,\n",
       "        496798.81605756,  496798.81605756,  623531.8676267 ,\n",
       "        496798.81605756,  496798.81605756,  496798.81605756,\n",
       "        496798.81605756,  496798.81605756,  496798.81605756,\n",
       "        496798.81605756,  623531.8676267 ,  623531.8676267 ,\n",
       "        496798.81605756,  496798.81605756,  750264.91919584,\n",
       "        496798.81605756,  496798.81605756,  623531.8676267 ,\n",
       "        370065.76448842,  750264.91919584,  750264.91919584,\n",
       "        496798.81605756,  876997.97076498,  496798.81605756,\n",
       "        496798.81605756,  496798.81605756,  623531.8676267 ,\n",
       "        876997.97076498,  370065.76448842,  496798.81605756,\n",
       "        876997.97076498,  496798.81605756,  370065.76448842,\n",
       "        496798.81605756,  496798.81605756,  623531.8676267 ,\n",
       "        623531.8676267 ,  623531.8676267 ,  623531.8676267 ,\n",
       "        496798.81605756,  370065.76448842,  496798.81605756,\n",
       "        496798.81605756,  623531.8676267 ,  496798.81605756,\n",
       "        623531.8676267 ,  623531.8676267 ,  496798.81605756,\n",
       "        623531.8676267 ,  750264.91919584,  623531.8676267 ,\n",
       "        496798.81605756,  370065.76448842,  623531.8676267 ,\n",
       "        496798.81605756,  370065.76448842,  370065.76448842,\n",
       "        370065.76448842,  496798.81605756,  623531.8676267 ,\n",
       "        623531.8676267 ,  750264.91919584,  370065.76448842,\n",
       "        623531.8676267 ,  496798.81605756,  623531.8676267 ,\n",
       "        496798.81605756,  496798.81605756,  496798.81605756,\n",
       "        496798.81605756,  496798.81605756,  623531.8676267 ,\n",
       "        623531.8676267 ,  496798.81605756,  623531.8676267 ,\n",
       "        623531.8676267 ,  623531.8676267 ,  623531.8676267 ,\n",
       "        623531.8676267 ,  750264.91919584,  750264.91919584,\n",
       "        243332.71291929,  496798.81605756,  623531.8676267 ,\n",
       "        623531.8676267 ,  623531.8676267 ,  496798.81605756,\n",
       "        623531.8676267 ,  623531.8676267 ,  623531.8676267 ,\n",
       "        496798.81605756,  623531.8676267 ,  623531.8676267 ,\n",
       "        496798.81605756,  243332.71291929,  750264.91919584,\n",
       "        623531.8676267 ,  496798.81605756,  496798.81605756,\n",
       "        496798.81605756,  496798.81605756,  623531.8676267 ,\n",
       "        496798.81605756,  496798.81605756,  623531.8676267 ,\n",
       "        750264.91919584,  623531.8676267 ,  496798.81605756,\n",
       "        623531.8676267 ,  496798.81605756,  370065.76448842,\n",
       "        496798.81605756,  496798.81605756,  496798.81605756,\n",
       "        496798.81605756,  750264.91919584,  496798.81605756,\n",
       "        623531.8676267 ,  750264.91919584,  496798.81605756,\n",
       "        496798.81605756,  496798.81605756,  496798.81605756,\n",
       "        623531.8676267 ,  370065.76448842,  370065.76448842,\n",
       "        496798.81605756,  623531.8676267 ,  750264.91919584,\n",
       "        496798.81605756,  496798.81605756,  370065.76448842,\n",
       "        623531.8676267 ,  496798.81605756,  496798.81605756,\n",
       "        496798.81605756,  623531.8676267 ,  623531.8676267 ,\n",
       "        623531.8676267 ,  623531.8676267 ,  623531.8676267 ,\n",
       "        496798.81605756,  623531.8676267 ,  623531.8676267 ,\n",
       "        496798.81605756,  496798.81605756,  750264.91919584,\n",
       "        496798.81605756,  623531.8676267 ,  623531.8676267 ,\n",
       "        370065.76448842,  370065.76448842,  496798.81605756,\n",
       "        496798.81605756,  623531.8676267 ,  496798.81605756,\n",
       "        370065.76448842,  496798.81605756,  623531.8676267 ,\n",
       "        496798.81605756,  623531.8676267 ,  623531.8676267 ,\n",
       "        876997.97076498,  496798.81605756,  623531.8676267 ,\n",
       "        496798.81605756,  623531.8676267 ,  496798.81605756,\n",
       "        496798.81605756,  623531.8676267 ,  623531.8676267 ,\n",
       "        623531.8676267 ,  623531.8676267 ,  370065.76448842,\n",
       "        496798.81605756,  623531.8676267 ,  623531.8676267 ,\n",
       "        623531.8676267 ,  623531.8676267 ,  496798.81605756,\n",
       "        496798.81605756,  623531.8676267 ,  623531.8676267 ,\n",
       "        623531.8676267 ,  623531.8676267 ,  623531.8676267 ,\n",
       "        750264.91919584,  496798.81605756,  623531.8676267 ,\n",
       "        496798.81605756,  496798.81605756,  623531.8676267 ,\n",
       "        750264.91919584,  496798.81605756,  496798.81605756,\n",
       "        623531.8676267 ,  496798.81605756,  623531.8676267 ,\n",
       "        623531.8676267 ,  496798.81605756,  496798.81605756,\n",
       "        750264.91919584,  750264.91919584,  496798.81605756,\n",
       "        496798.81605756,  496798.81605756,  623531.8676267 ,\n",
       "        623531.8676267 ,  496798.81605756,  370065.76448842,\n",
       "        496798.81605756,  623531.8676267 ,  370065.76448842,\n",
       "        496798.81605756,  750264.91919584,  623531.8676267 ,\n",
       "        496798.81605756,  496798.81605756,  496798.81605756,\n",
       "        623531.8676267 ,  623531.8676267 ,  496798.81605756,\n",
       "        496798.81605756,  496798.81605756])"
      ]
     },
     "execution_count": 46,
     "metadata": {},
     "output_type": "execute_result"
    }
   ],
   "source": [
    "lr.predict(X_test)"
   ]
  },
  {
   "cell_type": "code",
   "execution_count": 47,
   "id": "1ab8e4a7-fcbc-4367-81a3-0a8185371867",
   "metadata": {},
   "outputs": [],
   "source": [
    "y_pred = lr.predict(X_test)"
   ]
  },
  {
   "cell_type": "code",
   "execution_count": 50,
   "id": "a57309ec-ae49-4d6b-8496-2adee5720b50",
   "metadata": {},
   "outputs": [
    {
     "data": {
      "text/plain": [
       "Text(0, 0.5, 'Price')"
      ]
     },
     "execution_count": 50,
     "metadata": {},
     "output_type": "execute_result"
    },
    {
     "data": {
      "image/png": "[encoded data removed]",
      "text/plain": [
       "<Figure size 640x480 with 1 Axes>"
      ]
     },
     "metadata": {},
     "output_type": "display_data"
    }
   ],
   "source": [
    "plt.scatter(df['bedrooms'],df['price'])\n",
    "plt.plot(X_train, lr.predict(X_train), color='red')\n",
    "plt.xlabel('Bedrooms')\n",
    "plt.ylabel('Price')"
   ]
  },
  {
   "cell_type": "code",
   "execution_count": 51,
   "id": "a58cb28d-3968-466e-96b2-e89079af8545",
   "metadata": {},
   "outputs": [
    {
     "name": "stdout",
     "output_type": "stream",
     "text": [
      "Mean Absolute Error: 257115.33\n"
     ]
    }
   ],
   "source": [
    "from sklearn.metrics import mean_absolute_error\n",
    "# Calculate Mean Absolute Error\n",
    "mae = mean_absolute_error(y_test,y_pred)\n",
    "print(f\"Mean Absolute Error: {mae:.2f}\")"
   ]
  },
  {
   "cell_type": "code",
   "execution_count": 52,
   "id": "046dbf1c-835d-4898-9e71-ab7979603427",
   "metadata": {},
   "outputs": [
    {
     "name": "stdout",
     "output_type": "stream",
     "text": [
      "Mean Squared Error: 863463101884.78\n"
     ]
    }
   ],
   "source": [
    "from sklearn.metrics import mean_squared_error\n",
    "\n",
    "# Calculate Mean Squared Error\n",
    "mse = mean_squared_error(y_test,y_pred)\n",
    "print(f\"Mean Squared Error: {mse:.2f}\")"
   ]
  },
  {
   "cell_type": "code",
   "execution_count": null,
   "id": "905b93cd-50d3-4ba2-885c-76f8b386ab24",
   "metadata": {},
   "outputs": [],
   "source": []
  },
  {
   "cell_type": "code",
   "execution_count": null,
   "id": "90974ab2-3c70-42f2-9137-427d951a0960",
   "metadata": {},
   "outputs": [],
   "source": []
  },
  {
   "cell_type": "code",
   "execution_count": null,
   "id": "d638cd2a-e637-4d1a-86f6-a6a14327d876",
   "metadata": {},
   "outputs": [],
   "source": [
    "plt.scatter(df['sqft_living'], df['price'])\n",
    "plt.xlabel('sqft_living')\n",
    "plt.ylabel('Price')"
   ]
  },
  {
   "cell_type": "code",
   "execution_count": 15,
   "id": "dc317f0b-6bcf-4053-b4a0-14f4b2b4370b",
   "metadata": {},
   "outputs": [
    {
     "data": {
      "text/plain": [
       "Text(0, 0.5, 'Price')"
      ]
     },
     "execution_count": 15,
     "metadata": {},
     "output_type": "execute_result"
    },
    {
     "data": {
      "image/png": "[encoded data removed]",
      "text/plain": [
       "<Figure size 640x480 with 1 Axes>"
      ]
     },
     "metadata": {},
     "output_type": "display_data"
    }
   ],
   "source": [
    "X = "
   ]
  },
  {
   "cell_type": "code",
   "execution_count": 16,
   "id": "73e61927-38de-42fc-ad24-9beb5629d0c8",
   "metadata": {},
   "outputs": [
    {
     "data": {
      "text/plain": [
       "Text(0, 0.5, 'Price')"
      ]
     },
     "execution_count": 16,
     "metadata": {},
     "output_type": "execute_result"
    },
    {
     "data": {
      "image/png": "[encoded data removed]",
      "text/plain": [
       "<Figure size 640x480 with 1 Axes>"
      ]
     },
     "metadata": {},
     "output_type": "display_data"
    }
   ],
   "source": [
    "plt.scatter(df['bathrooms'], df['price'])\n",
    "plt.xlabel('Bathrooms')\n",
    "plt.ylabel('Price')"
   ]
  },
  {
   "cell_type": "code",
   "execution_count": 17,
   "id": "78662cbf-0490-43ae-968d-ecb9c80532c2",
   "metadata": {},
   "outputs": [
    {
     "data": {
      "text/plain": [
       "Text(0, 0.5, 'Price')"
      ]
     },
     "execution_count": 17,
     "metadata": {},
     "output_type": "execute_result"
    },
    {
     "data": {
      "image/png": "[encoded data removed]",
      "text/plain": [
       "<Figure size 640x480 with 1 Axes>"
      ]
     },
     "metadata": {},
     "output_type": "display_data"
    }
   ],
   "source": [
    "plt.scatter(df['floors'], df['price'])\n",
    "plt.xlabel('Floors')\n",
    "plt.ylabel('Price')"
   ]
  },
  {
   "cell_type": "code",
   "execution_count": null,
   "id": "61837618-d2fc-409c-b058-bc660125440b",
   "metadata": {},
   "outputs": [],
   "source": []
  }
 ],
 "metadata": {
  "kernelspec": {
   "display_name": "Python 3 (ipykernel)",
   "language": "python",
   "name": "python3"
  },
  "language_info": {
   "codemirror_mode": {
    "name": "ipython",
    "version": 3
   },
   "file_extension": ".py",
   "mimetype": "text/x-python",
   "name": "python",
   "nbconvert_exporter": "python",
   "pygments_lexer": "ipython3",
   "version": "3.10.2"
  }
 },
 "nbformat": 4,
 "nbformat_minor": 5
}
