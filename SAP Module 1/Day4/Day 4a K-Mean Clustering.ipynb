{
 "cells": [
  {
   "cell_type": "code",
   "execution_count": 4,
   "id": "bf364ee2-f8fd-4d88-a3e4-759469ac11d7",
   "metadata": {},
   "outputs": [],
   "source": [
    "import pandas as pd\n",
    "import matplotlib.pyplot as plt\n",
    "import seaborn as sns\n",
    "import os\n",
    "os.environ[\"OMP_NUM_THREADS\"] = '1'\n",
    "from sklearn.cluster import KMeans"
   ]
  },
  {
   "cell_type": "raw",
   "id": "098e5013-4cda-49fe-8d8d-703cead28c67",
   "metadata": {},
   "source": []
  },
  {
   "cell_type": "code",
   "execution_count": 6,
   "id": "55830e48-2aa9-440a-9671-4162019b0d04",
   "metadata": {},
   "outputs": [],
   "source": [
    "df = pd.read_csv('student_clustering.csv')"
   ]
  },
  {
   "cell_type": "code",
   "execution_count": 7,
   "id": "69ca848c-4c0c-402b-a28b-3ce9e4f010bb",
   "metadata": {},
   "outputs": [
    {
     "data": {
      "text/html": [
       "<div>\n",
       "<style scoped>\n",
       "    .dataframe tbody tr th:only-of-type {\n",
       "        vertical-align: middle;\n",
       "    }\n",
       "\n",
       "    .dataframe tbody tr th {\n",
       "        vertical-align: top;\n",
       "    }\n",
       "\n",
       "    .dataframe thead th {\n",
       "        text-align: right;\n",
       "    }\n",
       "</style>\n",
       "<table border=\"1\" class=\"dataframe\">\n",
       "  <thead>\n",
       "    <tr style=\"text-align: right;\">\n",
       "      <th></th>\n",
       "      <th>cgpa</th>\n",
       "      <th>iq</th>\n",
       "    </tr>\n",
       "  </thead>\n",
       "  <tbody>\n",
       "    <tr>\n",
       "      <th>0</th>\n",
       "      <td>5.13</td>\n",
       "      <td>88</td>\n",
       "    </tr>\n",
       "    <tr>\n",
       "      <th>1</th>\n",
       "      <td>5.90</td>\n",
       "      <td>113</td>\n",
       "    </tr>\n",
       "    <tr>\n",
       "      <th>2</th>\n",
       "      <td>8.36</td>\n",
       "      <td>93</td>\n",
       "    </tr>\n",
       "    <tr>\n",
       "      <th>3</th>\n",
       "      <td>8.27</td>\n",
       "      <td>97</td>\n",
       "    </tr>\n",
       "    <tr>\n",
       "      <th>4</th>\n",
       "      <td>5.45</td>\n",
       "      <td>110</td>\n",
       "    </tr>\n",
       "    <tr>\n",
       "      <th>...</th>\n",
       "      <td>...</td>\n",
       "      <td>...</td>\n",
       "    </tr>\n",
       "    <tr>\n",
       "      <th>195</th>\n",
       "      <td>4.68</td>\n",
       "      <td>89</td>\n",
       "    </tr>\n",
       "    <tr>\n",
       "      <th>196</th>\n",
       "      <td>8.57</td>\n",
       "      <td>118</td>\n",
       "    </tr>\n",
       "    <tr>\n",
       "      <th>197</th>\n",
       "      <td>5.85</td>\n",
       "      <td>112</td>\n",
       "    </tr>\n",
       "    <tr>\n",
       "      <th>198</th>\n",
       "      <td>6.23</td>\n",
       "      <td>108</td>\n",
       "    </tr>\n",
       "    <tr>\n",
       "      <th>199</th>\n",
       "      <td>8.82</td>\n",
       "      <td>117</td>\n",
       "    </tr>\n",
       "  </tbody>\n",
       "</table>\n",
       "<p>200 rows × 2 columns</p>\n",
       "</div>"
      ],
      "text/plain": [
       "     cgpa   iq\n",
       "0    5.13   88\n",
       "1    5.90  113\n",
       "2    8.36   93\n",
       "3    8.27   97\n",
       "4    5.45  110\n",
       "..    ...  ...\n",
       "195  4.68   89\n",
       "196  8.57  118\n",
       "197  5.85  112\n",
       "198  6.23  108\n",
       "199  8.82  117\n",
       "\n",
       "[200 rows x 2 columns]"
      ]
     },
     "execution_count": 7,
     "metadata": {},
     "output_type": "execute_result"
    }
   ],
   "source": [
    "df"
   ]
  },
  {
   "cell_type": "code",
   "execution_count": 8,
   "id": "f0b28a43-cd34-4a48-a066-5395eb501d8e",
   "metadata": {},
   "outputs": [
    {
     "data": {
      "text/plain": [
       "cgpa    0\n",
       "iq      0\n",
       "dtype: int64"
      ]
     },
     "execution_count": 8,
     "metadata": {},
     "output_type": "execute_result"
    }
   ],
   "source": [
    "df.isnull().sum()"
   ]
  },
  {
   "cell_type": "code",
   "execution_count": 11,
   "id": "688adfa2-1f7e-439a-9f1e-ed200bd6fc82",
   "metadata": {},
   "outputs": [
    {
     "data": {
      "text/plain": [
       "Text(0, 0.5, 'iq')"
      ]
     },
     "execution_count": 11,
     "metadata": {},
     "output_type": "execute_result"
    },
    {
     "data": {
      "image/png": "[encoded data removed]",
      "text/plain": [
       "<Figure size 640x480 with 1 Axes>"
      ]
     },
     "metadata": {},
     "output_type": "display_data"
    }
   ],
   "source": [
    "plt.scatter(df['cgpa'], df['iq'])\n",
    "plt.xlabel('cgpa')\n",
    "plt.ylabel('iq')"
   ]
  },
  {
   "cell_type": "code",
   "execution_count": 12,
   "id": "208cc53d-22d4-45a9-ad43-6ba0dabf0756",
   "metadata": {},
   "outputs": [],
   "source": [
    "relevant_col = ['cgpa', 'iq']\n",
    "student_df = df[relevant_col]"
   ]
  },
  {
   "cell_type": "code",
   "execution_count": 13,
   "id": "1c56012c-65ca-427e-8c46-30b177237e3a",
   "metadata": {},
   "outputs": [
    {
     "data": {
      "text/html": [
       "<div>\n",
       "<style scoped>\n",
       "    .dataframe tbody tr th:only-of-type {\n",
       "        vertical-align: middle;\n",
       "    }\n",
       "\n",
       "    .dataframe tbody tr th {\n",
       "        vertical-align: top;\n",
       "    }\n",
       "\n",
       "    .dataframe thead th {\n",
       "        text-align: right;\n",
       "    }\n",
       "</style>\n",
       "<table border=\"1\" class=\"dataframe\">\n",
       "  <thead>\n",
       "    <tr style=\"text-align: right;\">\n",
       "      <th></th>\n",
       "      <th>cgpa</th>\n",
       "      <th>iq</th>\n",
       "    </tr>\n",
       "  </thead>\n",
       "  <tbody>\n",
       "    <tr>\n",
       "      <th>0</th>\n",
       "      <td>5.13</td>\n",
       "      <td>88</td>\n",
       "    </tr>\n",
       "    <tr>\n",
       "      <th>1</th>\n",
       "      <td>5.90</td>\n",
       "      <td>113</td>\n",
       "    </tr>\n",
       "    <tr>\n",
       "      <th>2</th>\n",
       "      <td>8.36</td>\n",
       "      <td>93</td>\n",
       "    </tr>\n",
       "    <tr>\n",
       "      <th>3</th>\n",
       "      <td>8.27</td>\n",
       "      <td>97</td>\n",
       "    </tr>\n",
       "    <tr>\n",
       "      <th>4</th>\n",
       "      <td>5.45</td>\n",
       "      <td>110</td>\n",
       "    </tr>\n",
       "    <tr>\n",
       "      <th>...</th>\n",
       "      <td>...</td>\n",
       "      <td>...</td>\n",
       "    </tr>\n",
       "    <tr>\n",
       "      <th>195</th>\n",
       "      <td>4.68</td>\n",
       "      <td>89</td>\n",
       "    </tr>\n",
       "    <tr>\n",
       "      <th>196</th>\n",
       "      <td>8.57</td>\n",
       "      <td>118</td>\n",
       "    </tr>\n",
       "    <tr>\n",
       "      <th>197</th>\n",
       "      <td>5.85</td>\n",
       "      <td>112</td>\n",
       "    </tr>\n",
       "    <tr>\n",
       "      <th>198</th>\n",
       "      <td>6.23</td>\n",
       "      <td>108</td>\n",
       "    </tr>\n",
       "    <tr>\n",
       "      <th>199</th>\n",
       "      <td>8.82</td>\n",
       "      <td>117</td>\n",
       "    </tr>\n",
       "  </tbody>\n",
       "</table>\n",
       "<p>200 rows × 2 columns</p>\n",
       "</div>"
      ],
      "text/plain": [
       "     cgpa   iq\n",
       "0    5.13   88\n",
       "1    5.90  113\n",
       "2    8.36   93\n",
       "3    8.27   97\n",
       "4    5.45  110\n",
       "..    ...  ...\n",
       "195  4.68   89\n",
       "196  8.57  118\n",
       "197  5.85  112\n",
       "198  6.23  108\n",
       "199  8.82  117\n",
       "\n",
       "[200 rows x 2 columns]"
      ]
     },
     "execution_count": 13,
     "metadata": {},
     "output_type": "execute_result"
    }
   ],
   "source": [
    "student_df"
   ]
  },
  {
   "cell_type": "code",
   "execution_count": 14,
   "id": "8f3f44df-e3ef-411e-b16a-3e9688f663c1",
   "metadata": {},
   "outputs": [
    {
     "data": {
      "text/html": [
       "<style>#sk-container-id-1 {color: black;}#sk-container-id-1 pre{padding: 0;}#sk-container-id-1 div.sk-toggleable {background-color: white;}#sk-container-id-1 label.sk-toggleable__label {cursor: pointer;display: block;width: 100%;margin-bottom: 0;padding: 0.3em;box-sizing: border-box;text-align: center;}#sk-container-id-1 label.sk-toggleable__label-arrow:before {content: \"▸\";float: left;margin-right: 0.25em;color: #696969;}#sk-container-id-1 label.sk-toggleable__label-arrow:hover:before {color: black;}#sk-container-id-1 div.sk-estimator:hover label.sk-toggleable__label-arrow:before {color: black;}#sk-container-id-1 div.sk-toggleable__content {max-height: 0;max-width: 0;overflow: hidden;text-align: left;background-color: #f0f8ff;}#sk-container-id-1 div.sk-toggleable__content pre {margin: 0.2em;color: black;border-radius: 0.25em;background-color: #f0f8ff;}#sk-container-id-1 input.sk-toggleable__control:checked~div.sk-toggleable__content {max-height: 200px;max-width: 100%;overflow: auto;}#sk-container-id-1 input.sk-toggleable__control:checked~label.sk-toggleable__label-arrow:before {content: \"▾\";}#sk-container-id-1 div.sk-estimator input.sk-toggleable__control:checked~label.sk-toggleable__label {background-color: #d4ebff;}#sk-container-id-1 div.sk-label input.sk-toggleable__control:checked~label.sk-toggleable__label {background-color: #d4ebff;}#sk-container-id-1 input.sk-hidden--visually {border: 0;clip: rect(1px 1px 1px 1px);clip: rect(1px, 1px, 1px, 1px);height: 1px;margin: -1px;overflow: hidden;padding: 0;position: absolute;width: 1px;}#sk-container-id-1 div.sk-estimator {font-family: monospace;background-color: #f0f8ff;border: 1px dotted black;border-radius: 0.25em;box-sizing: border-box;margin-bottom: 0.5em;}#sk-container-id-1 div.sk-estimator:hover {background-color: #d4ebff;}#sk-container-id-1 div.sk-parallel-item::after {content: \"\";width: 100%;border-bottom: 1px solid gray;flex-grow: 1;}#sk-container-id-1 div.sk-label:hover label.sk-toggleable__label {background-color: #d4ebff;}#sk-container-id-1 div.sk-serial::before {content: \"\";position: absolute;border-left: 1px solid gray;box-sizing: border-box;top: 0;bottom: 0;left: 50%;z-index: 0;}#sk-container-id-1 div.sk-serial {display: flex;flex-direction: column;align-items: center;background-color: white;padding-right: 0.2em;padding-left: 0.2em;position: relative;}#sk-container-id-1 div.sk-item {position: relative;z-index: 1;}#sk-container-id-1 div.sk-parallel {display: flex;align-items: stretch;justify-content: center;background-color: white;position: relative;}#sk-container-id-1 div.sk-item::before, #sk-container-id-1 div.sk-parallel-item::before {content: \"\";position: absolute;border-left: 1px solid gray;box-sizing: border-box;top: 0;bottom: 0;left: 50%;z-index: -1;}#sk-container-id-1 div.sk-parallel-item {display: flex;flex-direction: column;z-index: 1;position: relative;background-color: white;}#sk-container-id-1 div.sk-parallel-item:first-child::after {align-self: flex-end;width: 50%;}#sk-container-id-1 div.sk-parallel-item:last-child::after {align-self: flex-start;width: 50%;}#sk-container-id-1 div.sk-parallel-item:only-child::after {width: 0;}#sk-container-id-1 div.sk-dashed-wrapped {border: 1px dashed gray;margin: 0 0.4em 0.5em 0.4em;box-sizing: border-box;padding-bottom: 0.4em;background-color: white;}#sk-container-id-1 div.sk-label label {font-family: monospace;font-weight: bold;display: inline-block;line-height: 1.2em;}#sk-container-id-1 div.sk-label-container {text-align: center;}#sk-container-id-1 div.sk-container {/* jupyter's `normalize.less` sets `[hidden] { display: none; }` but bootstrap.min.css set `[hidden] { display: none !important; }` so we also need the `!important` here to be able to override the default hidden behavior on the sphinx rendered scikit-learn.org. See: https://github.com/scikit-learn/scikit-learn/issues/21755 */display: inline-block !important;position: relative;}#sk-container-id-1 div.sk-text-repr-fallback {display: none;}</style><div id=\"sk-container-id-1\" class=\"sk-top-container\"><div class=\"sk-text-repr-fallback\"><pre>StandardScaler()</pre><b>In a Jupyter environment, please rerun this cell to show the HTML representation or trust the notebook. <br />On GitHub, the HTML representation is unable to render, please try loading this page with nbviewer.org.</b></div><div class=\"sk-container\" hidden><div class=\"sk-item\"><div class=\"sk-estimator sk-toggleable\"><input class=\"sk-toggleable__control sk-hidden--visually\" id=\"sk-estimator-id-1\" type=\"checkbox\" checked><label for=\"sk-estimator-id-1\" class=\"sk-toggleable__label sk-toggleable__label-arrow\">StandardScaler</label><div class=\"sk-toggleable__content\"><pre>StandardScaler()</pre></div></div></div></div></div>"
      ],
      "text/plain": [
       "StandardScaler()"
      ]
     },
     "execution_count": 14,
     "metadata": {},
     "output_type": "execute_result"
    }
   ],
   "source": [
    "from sklearn.preprocessing import StandardScaler\n",
    "scaler = StandardScaler()\n",
    "scaler.fit(student_df)"
   ]
  },
  {
   "cell_type": "code",
   "execution_count": 16,
   "id": "c1851b35-d370-4f8e-aa4a-bd7d6914e902",
   "metadata": {},
   "outputs": [],
   "source": [
    "scaled_data = scaler.transform(student_df)"
   ]
  },
  {
   "cell_type": "code",
   "execution_count": 17,
   "id": "61f6235b-a07d-45ce-9d1c-3898cf414cb0",
   "metadata": {},
   "outputs": [
    {
     "data": {
      "text/plain": [
       "array([[-1.14404869, -1.15364097],\n",
       "       [-0.6687506 ,  0.9071682 ],\n",
       "       [ 0.84973424, -0.74147914],\n",
       "       [ 0.79417991, -0.41174967],\n",
       "       [-0.94652221,  0.6598711 ],\n",
       "       [-0.681096  ,  0.57743873],\n",
       "       [ 0.88059775, -0.32931731],\n",
       "       [ 1.12133315,  1.07203293],\n",
       "       [-0.73665032,  0.6598711 ],\n",
       "       [ 0.68307127, -0.65904677],\n",
       "       [-1.47120193, -1.31850571],\n",
       "       [-0.54529655,  0.6598711 ],\n",
       "       [ 0.72628018, -0.41174967],\n",
       "       [-1.22429383, -1.15364097],\n",
       "       [-0.78603195,  0.49500636],\n",
       "       [ 0.81887072, -0.57661441],\n",
       "       [-0.9156587 ,  0.74230346],\n",
       "       [ 0.54727181, -0.90634387],\n",
       "       [-0.57616006,  0.74230346],\n",
       "       [-0.70578681,  0.9071682 ],\n",
       "       [ 0.30036371, -0.32931731],\n",
       "       [-1.31071166, -1.31850571],\n",
       "       [ 0.49171749, -0.82391151],\n",
       "       [-1.36009328, -1.23607334],\n",
       "       [-1.24898464, -1.15364097],\n",
       "       [ 0.58430803, -0.32931731],\n",
       "       [-1.31071166, -1.23607334],\n",
       "       [ 1.35589585,  1.4017624 ],\n",
       "       [ 0.65220775, -0.65904677],\n",
       "       [-0.95886762,  0.33014163],\n",
       "       [ 1.15836936,  1.23689766],\n",
       "       [-0.60085087,  0.82473583],\n",
       "       [ 1.13985126,  1.31933003],\n",
       "       [-1.02676735,  0.33014163],\n",
       "       [ 0.48554478, -0.49418204],\n",
       "       [ 0.62751694, -0.49418204],\n",
       "       [ 0.97318829,  1.31933003],\n",
       "       [-0.66257789,  0.49500636],\n",
       "       [-0.95269491, -1.48337044],\n",
       "       [-0.87244978,  0.9071682 ],\n",
       "       [-1.01442194, -1.40093807],\n",
       "       [ 0.89294315, -0.49418204],\n",
       "       [ 0.63986235, -0.74147914],\n",
       "       [-1.03294005, -1.31850571],\n",
       "       [ 1.22009639,  1.1544653 ],\n",
       "       [ 1.10898774,  1.1544653 ],\n",
       "       [ 0.71393478, -0.65904677],\n",
       "       [-0.36011547,  0.49500636],\n",
       "       [ 0.90528856,  1.4017624 ],\n",
       "       [-0.81072276,  0.57743873],\n",
       "       [-1.13787599, -1.56580281],\n",
       "       [-1.25515734, -1.31850571],\n",
       "       [ 1.11516045,  1.1544653 ],\n",
       "       [ 0.70158937, -0.49418204],\n",
       "       [ 1.12750585,  1.07203293],\n",
       "       [-0.57616006,  0.49500636],\n",
       "       [-0.69961411,  0.74230346],\n",
       "       [ 1.17071477,  1.07203293],\n",
       "       [-0.6872687 ,  0.57743873],\n",
       "       [ 1.28799612,  1.23689766],\n",
       "       [-0.59467817,  0.1652769 ],\n",
       "       [ 0.83738883, -0.49418204],\n",
       "       [ 1.02874261, -0.57661441],\n",
       "       [ 1.19540558,  1.31933003],\n",
       "       [-1.09466707, -1.23607334],\n",
       "       [ 1.09046964,  0.9071682 ],\n",
       "       [ 0.95467018, -0.74147914],\n",
       "       [-1.27984815, -1.40093807],\n",
       "       [-0.74899573,  0.74230346],\n",
       "       [ 0.80652532, -0.57661441],\n",
       "       [-0.56998736,  0.57743873],\n",
       "       [ 1.06577883,  1.1544653 ],\n",
       "       [ 0.58430803, -0.65904677],\n",
       "       [-1.05145816, -1.56580281],\n",
       "       [-0.88479519,  0.57743873],\n",
       "       [ 1.15836936,  1.31933003],\n",
       "       [-0.72430492,  0.82473583],\n",
       "       [ 1.42996828,  1.23689766],\n",
       "       [-1.13170329, -1.15364097],\n",
       "       [ 1.07195153, -0.82391151],\n",
       "       [ 0.71393478, -0.90634387],\n",
       "       [ 1.2509599 ,  1.56662713],\n",
       "       [-0.93417681,  0.74230346],\n",
       "       [-1.28602085, -1.40093807],\n",
       "       [ 1.22626909,  1.1544653 ],\n",
       "       [-1.29219356, -1.15364097],\n",
       "       [ 1.2447872 ,  1.23689766],\n",
       "       [-0.76751384,  0.57743873],\n",
       "       [ 1.09664234,  1.23689766],\n",
       "       [-0.73047762,  0.49500636],\n",
       "       [ 1.10898774,  1.23689766],\n",
       "       [ 1.38675936,  0.98960056],\n",
       "       [ 0.75097099, -0.82391151],\n",
       "       [-1.19343032, -1.31850571],\n",
       "       [ 1.04108802, -0.57661441],\n",
       "       [ 0.73862559, -0.65904677],\n",
       "       [ 1.26330531,  1.31933003],\n",
       "       [ 1.0040518 , -0.57661441],\n",
       "       [-1.23663923, -0.90634387],\n",
       "       [ 1.32503233,  1.31933003],\n",
       "       [-0.681096  ,  0.6598711 ],\n",
       "       [-1.21812113, -1.31850571],\n",
       "       [-1.25515734, -1.15364097],\n",
       "       [ 1.18923288,  1.4017624 ],\n",
       "       [-1.24898464, -1.07120861],\n",
       "       [-1.31688437, -1.31850571],\n",
       "       [ 0.62134424, -0.82391151],\n",
       "       [-1.37243869, -0.98877624],\n",
       "       [ 1.2324418 ,  1.31933003],\n",
       "       [ 1.26330531,  1.31933003],\n",
       "       [ 0.67689856, -0.65904677],\n",
       "       [ 1.15836936,  1.23689766],\n",
       "       [-0.66257789,  0.57743873],\n",
       "       [-0.81072276,  0.74230346],\n",
       "       [ 0.78800721, -0.90634387],\n",
       "       [ 1.17688747,  1.31933003],\n",
       "       [ 0.78183451, -0.57661441],\n",
       "       [-0.76751384,  0.49500636],\n",
       "       [ 1.22626909,  1.23689766],\n",
       "       [-1.23663923, -1.23607334],\n",
       "       [-1.36009328, -1.23607334],\n",
       "       [-0.79837735,  0.57743873],\n",
       "       [ 0.87442505, -0.74147914],\n",
       "       [ 1.07195153,  1.4017624 ],\n",
       "       [ 0.5287537 , -0.41174967],\n",
       "       [-1.10083978, -1.40093807],\n",
       "       [ 0.67689856, -0.32931731],\n",
       "       [-0.57616006,  0.57743873],\n",
       "       [-1.19343032, -1.23607334],\n",
       "       [ 0.78183451, -0.49418204],\n",
       "       [ 0.81269802, -0.74147914],\n",
       "       [-0.52060573,  0.74230346],\n",
       "       [-1.21812113, -1.56580281],\n",
       "       [-1.36626599, -1.31850571],\n",
       "       [-0.76751384,  0.82473583],\n",
       "       [ 1.20157828,  1.31933003],\n",
       "       [-0.64405979,  0.57743873],\n",
       "       [-1.42182031, -1.23607334],\n",
       "       [ 0.56578992, -0.16445257],\n",
       "       [ 0.60899884, -0.49418204],\n",
       "       [ 0.7571437 , -0.65904677],\n",
       "       [-1.34157518, -1.40093807],\n",
       "       [-0.69344141,  0.74230346],\n",
       "       [-1.20577572, -1.23607334],\n",
       "       [-1.23663923, -1.23607334],\n",
       "       [ 0.98553369,  1.31933003],\n",
       "       [-1.02676735, -1.15364097],\n",
       "       [ 1.20775099,  1.23689766],\n",
       "       [-0.37246087,  0.412574  ],\n",
       "       [-1.31071166, -1.15364097],\n",
       "       [ 0.9978791 ,  1.23689766],\n",
       "       [-1.29219356, -1.40093807],\n",
       "       [ 1.10281504,  1.23689766],\n",
       "       [ 1.12750585,  1.1544653 ],\n",
       "       [-1.29836626, -1.31850571],\n",
       "       [ 0.7694891 , -0.57661441],\n",
       "       [-0.23048871,  0.74230346],\n",
       "       [ 0.96084288,  1.31933003],\n",
       "       [-0.58233276,  0.6598711 ],\n",
       "       [ 0.84356153, -0.74147914],\n",
       "       [-1.21812113, -1.31850571],\n",
       "       [ 1.22626909,  1.4017624 ],\n",
       "       [-0.45887871,  0.49500636],\n",
       "       [ 0.83121613, -0.82391151],\n",
       "       [ 1.18923288,  1.23689766],\n",
       "       [-1.42799301, -1.31850571],\n",
       "       [-0.54529655,  0.57743873],\n",
       "       [-1.13170329, -1.40093807],\n",
       "       [-1.24281194, -1.15364097],\n",
       "       [ 1.04726072,  1.4017624 ],\n",
       "       [ 1.28182342,  1.48419476],\n",
       "       [-0.73047762,  0.6598711 ],\n",
       "       [ 1.18306017,  1.23689766],\n",
       "       [-1.30453896, -1.15364097],\n",
       "       [-1.10083978, -1.07120861],\n",
       "       [ 0.91146126, -0.32931731],\n",
       "       [ 1.20775099,  1.07203293],\n",
       "       [-0.6872687 ,  0.49500636],\n",
       "       [-1.23046653, -1.15364097],\n",
       "       [ 1.18923288,  1.07203293],\n",
       "       [ 1.18923288,  1.23689766],\n",
       "       [-0.62554168,  0.49500636],\n",
       "       [-0.50208763,  0.6598711 ],\n",
       "       [-0.60085087,  0.412574  ],\n",
       "       [ 0.55961722, -0.49418204],\n",
       "       [-1.35392058, -1.15364097],\n",
       "       [ 0.57196262, -0.74147914],\n",
       "       [ 0.7694891 , -0.90634387],\n",
       "       [ 1.21392369,  1.1544653 ],\n",
       "       [-0.40332439,  0.74230346],\n",
       "       [ 0.87442505, -0.74147914],\n",
       "       [ 0.89911586, -0.65904677],\n",
       "       [-1.37243869, -1.07120861],\n",
       "       [-1.36009328, -1.40093807],\n",
       "       [ 1.11516045, -0.49418204],\n",
       "       [-1.42182031, -1.07120861],\n",
       "       [ 0.97936099,  1.31933003],\n",
       "       [-0.69961411,  0.82473583],\n",
       "       [-0.46505141,  0.49500636],\n",
       "       [ 1.13367855,  1.23689766]])"
      ]
     },
     "execution_count": 17,
     "metadata": {},
     "output_type": "execute_result"
    }
   ],
   "source": [
    "scaled_data"
   ]
  },
  {
   "cell_type": "code",
   "execution_count": 31,
   "id": "b4b3bfa2-ac6d-4698-a9d7-8179922f8d77",
   "metadata": {},
   "outputs": [],
   "source": [
    "def find_best_clusters(df, max_k):\n",
    "    cluster_centers = []\n",
    "    k_values = []\n",
    "    for k in range(2, max_k):\n",
    "        kmeans_model = KMeans(n_clusters = k)\n",
    "        kmeans_model.fit(df)\n",
    "        cluster_centers.append(kmeans_model.inertia_)\n",
    "        k_values.append(k)\n",
    "    return cluster_centers, k_values"
   ]
  },
  {
   "cell_type": "code",
   "execution_count": 32,
   "id": "a79102bc-c116-4fdc-ba0b-30189833ffd2",
   "metadata": {},
   "outputs": [
    {
     "name": "stderr",
     "output_type": "stream",
     "text": [
      "C:\\python 3.7\\lib\\site-packages\\sklearn\\cluster\\_kmeans.py:1412: FutureWarning: The default value of `n_init` will change from 10 to 'auto' in 1.4. Set the value of `n_init` explicitly to suppress the warning\n",
      "  super()._check_params_vs_input(X, default_n_init=10)\n",
      "C:\\python 3.7\\lib\\site-packages\\sklearn\\cluster\\_kmeans.py:1412: FutureWarning: The default value of `n_init` will change from 10 to 'auto' in 1.4. Set the value of `n_init` explicitly to suppress the warning\n",
      "  super()._check_params_vs_input(X, default_n_init=10)\n",
      "C:\\python 3.7\\lib\\site-packages\\sklearn\\cluster\\_kmeans.py:1412: FutureWarning: The default value of `n_init` will change from 10 to 'auto' in 1.4. Set the value of `n_init` explicitly to suppress the warning\n",
      "  super()._check_params_vs_input(X, default_n_init=10)\n",
      "C:\\python 3.7\\lib\\site-packages\\sklearn\\cluster\\_kmeans.py:1412: FutureWarning: The default value of `n_init` will change from 10 to 'auto' in 1.4. Set the value of `n_init` explicitly to suppress the warning\n",
      "  super()._check_params_vs_input(X, default_n_init=10)\n",
      "C:\\python 3.7\\lib\\site-packages\\sklearn\\cluster\\_kmeans.py:1412: FutureWarning: The default value of `n_init` will change from 10 to 'auto' in 1.4. Set the value of `n_init` explicitly to suppress the warning\n",
      "  super()._check_params_vs_input(X, default_n_init=10)\n",
      "C:\\python 3.7\\lib\\site-packages\\sklearn\\cluster\\_kmeans.py:1412: FutureWarning: The default value of `n_init` will change from 10 to 'auto' in 1.4. Set the value of `n_init` explicitly to suppress the warning\n",
      "  super()._check_params_vs_input(X, default_n_init=10)\n",
      "C:\\python 3.7\\lib\\site-packages\\sklearn\\cluster\\_kmeans.py:1412: FutureWarning: The default value of `n_init` will change from 10 to 'auto' in 1.4. Set the value of `n_init` explicitly to suppress the warning\n",
      "  super()._check_params_vs_input(X, default_n_init=10)\n",
      "C:\\python 3.7\\lib\\site-packages\\sklearn\\cluster\\_kmeans.py:1412: FutureWarning: The default value of `n_init` will change from 10 to 'auto' in 1.4. Set the value of `n_init` explicitly to suppress the warning\n",
      "  super()._check_params_vs_input(X, default_n_init=10)\n",
      "C:\\python 3.7\\lib\\site-packages\\sklearn\\cluster\\_kmeans.py:1412: FutureWarning: The default value of `n_init` will change from 10 to 'auto' in 1.4. Set the value of `n_init` explicitly to suppress the warning\n",
      "  super()._check_params_vs_input(X, default_n_init=10)\n",
      "C:\\python 3.7\\lib\\site-packages\\sklearn\\cluster\\_kmeans.py:1412: FutureWarning: The default value of `n_init` will change from 10 to 'auto' in 1.4. Set the value of `n_init` explicitly to suppress the warning\n",
      "  super()._check_params_vs_input(X, default_n_init=10)\n"
     ]
    }
   ],
   "source": [
    "clusters_centers, k_values = find_best_clusters(scaled_data, 12)"
   ]
  },
  {
   "cell_type": "code",
   "execution_count": 38,
   "id": "8d04154a-fc93-46dc-86d5-ee9c581cc600",
   "metadata": {},
   "outputs": [],
   "source": [
    "def generate_elbow_plot(clusters_centers, k_values):\n",
    "    figure = plt.subplots(figsize = (12, 6))\n",
    "    plt.plot(k_values, clusters_centers, 'o-', color=\"blue\")\n",
    "    plt.xlabel(\"Number of Clusters (K)\")\n",
    "    plt.ylabel(\"Cluster Inertia\")\n",
    "    plt.title(\"Elbow Plot of KMeans\")\n",
    "    plt.show()"
   ]
  },
  {
   "cell_type": "code",
   "execution_count": 39,
   "id": "56c42d58-4fc5-4244-8b45-384d06abf7b9",
   "metadata": {},
   "outputs": [
    {
     "data": {
      "image/png": "[encoded data removed]",
      "text/plain": [
       "<Figure size 1200x600 with 1 Axes>"
      ]
     },
     "metadata": {},
     "output_type": "display_data"
    }
   ],
   "source": [
    "generate_elbow_plot(clusters_centers, k_values)"
   ]
  },
  {
   "cell_type": "code",
   "execution_count": 54,
   "id": "b738cf3c-bb4c-43df-850c-2083989aaeca",
   "metadata": {},
   "outputs": [
    {
     "name": "stderr",
     "output_type": "stream",
     "text": [
      "C:\\python 3.7\\lib\\site-packages\\sklearn\\cluster\\_kmeans.py:1412: FutureWarning: The default value of `n_init` will change from 10 to 'auto' in 1.4. Set the value of `n_init` explicitly to suppress the warning\n",
      "  super()._check_params_vs_input(X, default_n_init=10)\n"
     ]
    },
    {
     "data": {
      "text/html": [
       "<style>#sk-container-id-6 {color: black;}#sk-container-id-6 pre{padding: 0;}#sk-container-id-6 div.sk-toggleable {background-color: white;}#sk-container-id-6 label.sk-toggleable__label {cursor: pointer;display: block;width: 100%;margin-bottom: 0;padding: 0.3em;box-sizing: border-box;text-align: center;}#sk-container-id-6 label.sk-toggleable__label-arrow:before {content: \"▸\";float: left;margin-right: 0.25em;color: #696969;}#sk-container-id-6 label.sk-toggleable__label-arrow:hover:before {color: black;}#sk-container-id-6 div.sk-estimator:hover label.sk-toggleable__label-arrow:before {color: black;}#sk-container-id-6 div.sk-toggleable__content {max-height: 0;max-width: 0;overflow: hidden;text-align: left;background-color: #f0f8ff;}#sk-container-id-6 div.sk-toggleable__content pre {margin: 0.2em;color: black;border-radius: 0.25em;background-color: #f0f8ff;}#sk-container-id-6 input.sk-toggleable__control:checked~div.sk-toggleable__content {max-height: 200px;max-width: 100%;overflow: auto;}#sk-container-id-6 input.sk-toggleable__control:checked~label.sk-toggleable__label-arrow:before {content: \"▾\";}#sk-container-id-6 div.sk-estimator input.sk-toggleable__control:checked~label.sk-toggleable__label {background-color: #d4ebff;}#sk-container-id-6 div.sk-label input.sk-toggleable__control:checked~label.sk-toggleable__label {background-color: #d4ebff;}#sk-container-id-6 input.sk-hidden--visually {border: 0;clip: rect(1px 1px 1px 1px);clip: rect(1px, 1px, 1px, 1px);height: 1px;margin: -1px;overflow: hidden;padding: 0;position: absolute;width: 1px;}#sk-container-id-6 div.sk-estimator {font-family: monospace;background-color: #f0f8ff;border: 1px dotted black;border-radius: 0.25em;box-sizing: border-box;margin-bottom: 0.5em;}#sk-container-id-6 div.sk-estimator:hover {background-color: #d4ebff;}#sk-container-id-6 div.sk-parallel-item::after {content: \"\";width: 100%;border-bottom: 1px solid gray;flex-grow: 1;}#sk-container-id-6 div.sk-label:hover label.sk-toggleable__label {background-color: #d4ebff;}#sk-container-id-6 div.sk-serial::before {content: \"\";position: absolute;border-left: 1px solid gray;box-sizing: border-box;top: 0;bottom: 0;left: 50%;z-index: 0;}#sk-container-id-6 div.sk-serial {display: flex;flex-direction: column;align-items: center;background-color: white;padding-right: 0.2em;padding-left: 0.2em;position: relative;}#sk-container-id-6 div.sk-item {position: relative;z-index: 1;}#sk-container-id-6 div.sk-parallel {display: flex;align-items: stretch;justify-content: center;background-color: white;position: relative;}#sk-container-id-6 div.sk-item::before, #sk-container-id-6 div.sk-parallel-item::before {content: \"\";position: absolute;border-left: 1px solid gray;box-sizing: border-box;top: 0;bottom: 0;left: 50%;z-index: -1;}#sk-container-id-6 div.sk-parallel-item {display: flex;flex-direction: column;z-index: 1;position: relative;background-color: white;}#sk-container-id-6 div.sk-parallel-item:first-child::after {align-self: flex-end;width: 50%;}#sk-container-id-6 div.sk-parallel-item:last-child::after {align-self: flex-start;width: 50%;}#sk-container-id-6 div.sk-parallel-item:only-child::after {width: 0;}#sk-container-id-6 div.sk-dashed-wrapped {border: 1px dashed gray;margin: 0 0.4em 0.5em 0.4em;box-sizing: border-box;padding-bottom: 0.4em;background-color: white;}#sk-container-id-6 div.sk-label label {font-family: monospace;font-weight: bold;display: inline-block;line-height: 1.2em;}#sk-container-id-6 div.sk-label-container {text-align: center;}#sk-container-id-6 div.sk-container {/* jupyter's `normalize.less` sets `[hidden] { display: none; }` but bootstrap.min.css set `[hidden] { display: none !important; }` so we also need the `!important` here to be able to override the default hidden behavior on the sphinx rendered scikit-learn.org. See: https://github.com/scikit-learn/scikit-learn/issues/21755 */display: inline-block !important;position: relative;}#sk-container-id-6 div.sk-text-repr-fallback {display: none;}</style><div id=\"sk-container-id-6\" class=\"sk-top-container\"><div class=\"sk-text-repr-fallback\"><pre>KMeans(n_clusters=4)</pre><b>In a Jupyter environment, please rerun this cell to show the HTML representation or trust the notebook. <br />On GitHub, the HTML representation is unable to render, please try loading this page with nbviewer.org.</b></div><div class=\"sk-container\" hidden><div class=\"sk-item\"><div class=\"sk-estimator sk-toggleable\"><input class=\"sk-toggleable__control sk-hidden--visually\" id=\"sk-estimator-id-6\" type=\"checkbox\" checked><label for=\"sk-estimator-id-6\" class=\"sk-toggleable__label sk-toggleable__label-arrow\">KMeans</label><div class=\"sk-toggleable__content\"><pre>KMeans(n_clusters=4)</pre></div></div></div></div></div>"
      ],
      "text/plain": [
       "KMeans(n_clusters=4)"
      ]
     },
     "execution_count": 54,
     "metadata": {},
     "output_type": "execute_result"
    }
   ],
   "source": [
    "kmeans_model = KMeans(n_clusters = 4)\n",
    "kmeans_model.fit(scaled_data)"
   ]
  },
  {
   "cell_type": "code",
   "execution_count": 55,
   "id": "75180da8-1e43-4359-8dcc-54a67f49852e",
   "metadata": {},
   "outputs": [],
   "source": [
    "df[\"clusters\"] = kmeans_model.labels_"
   ]
  },
  {
   "cell_type": "code",
   "execution_count": 56,
   "id": "d57c8551-0763-4c77-bf51-bb41999576c3",
   "metadata": {},
   "outputs": [
    {
     "data": {
      "text/html": [
       "<div>\n",
       "<style scoped>\n",
       "    .dataframe tbody tr th:only-of-type {\n",
       "        vertical-align: middle;\n",
       "    }\n",
       "\n",
       "    .dataframe tbody tr th {\n",
       "        vertical-align: top;\n",
       "    }\n",
       "\n",
       "    .dataframe thead th {\n",
       "        text-align: right;\n",
       "    }\n",
       "</style>\n",
       "<table border=\"1\" class=\"dataframe\">\n",
       "  <thead>\n",
       "    <tr style=\"text-align: right;\">\n",
       "      <th></th>\n",
       "      <th>cgpa</th>\n",
       "      <th>iq</th>\n",
       "      <th>clusters</th>\n",
       "    </tr>\n",
       "  </thead>\n",
       "  <tbody>\n",
       "    <tr>\n",
       "      <th>0</th>\n",
       "      <td>5.13</td>\n",
       "      <td>88</td>\n",
       "      <td>3</td>\n",
       "    </tr>\n",
       "    <tr>\n",
       "      <th>1</th>\n",
       "      <td>5.90</td>\n",
       "      <td>113</td>\n",
       "      <td>0</td>\n",
       "    </tr>\n",
       "    <tr>\n",
       "      <th>2</th>\n",
       "      <td>8.36</td>\n",
       "      <td>93</td>\n",
       "      <td>2</td>\n",
       "    </tr>\n",
       "    <tr>\n",
       "      <th>3</th>\n",
       "      <td>8.27</td>\n",
       "      <td>97</td>\n",
       "      <td>2</td>\n",
       "    </tr>\n",
       "    <tr>\n",
       "      <th>4</th>\n",
       "      <td>5.45</td>\n",
       "      <td>110</td>\n",
       "      <td>0</td>\n",
       "    </tr>\n",
       "    <tr>\n",
       "      <th>...</th>\n",
       "      <td>...</td>\n",
       "      <td>...</td>\n",
       "      <td>...</td>\n",
       "    </tr>\n",
       "    <tr>\n",
       "      <th>195</th>\n",
       "      <td>4.68</td>\n",
       "      <td>89</td>\n",
       "      <td>3</td>\n",
       "    </tr>\n",
       "    <tr>\n",
       "      <th>196</th>\n",
       "      <td>8.57</td>\n",
       "      <td>118</td>\n",
       "      <td>1</td>\n",
       "    </tr>\n",
       "    <tr>\n",
       "      <th>197</th>\n",
       "      <td>5.85</td>\n",
       "      <td>112</td>\n",
       "      <td>0</td>\n",
       "    </tr>\n",
       "    <tr>\n",
       "      <th>198</th>\n",
       "      <td>6.23</td>\n",
       "      <td>108</td>\n",
       "      <td>0</td>\n",
       "    </tr>\n",
       "    <tr>\n",
       "      <th>199</th>\n",
       "      <td>8.82</td>\n",
       "      <td>117</td>\n",
       "      <td>1</td>\n",
       "    </tr>\n",
       "  </tbody>\n",
       "</table>\n",
       "<p>200 rows × 3 columns</p>\n",
       "</div>"
      ],
      "text/plain": [
       "     cgpa   iq  clusters\n",
       "0    5.13   88         3\n",
       "1    5.90  113         0\n",
       "2    8.36   93         2\n",
       "3    8.27   97         2\n",
       "4    5.45  110         0\n",
       "..    ...  ...       ...\n",
       "195  4.68   89         3\n",
       "196  8.57  118         1\n",
       "197  5.85  112         0\n",
       "198  6.23  108         0\n",
       "199  8.82  117         1\n",
       "\n",
       "[200 rows x 3 columns]"
      ]
     },
     "execution_count": 56,
     "metadata": {},
     "output_type": "execute_result"
    }
   ],
   "source": [
    "df"
   ]
  },
  {
   "cell_type": "code",
   "execution_count": 57,
   "id": "61ec6f72-ca65-45a9-8a0f-8d9a14975aa8",
   "metadata": {},
   "outputs": [
    {
     "data": {
      "text/plain": [
       "<matplotlib.collections.PathCollection at 0x1d9d28753c0>"
      ]
     },
     "execution_count": 57,
     "metadata": {},
     "output_type": "execute_result"
    },
    {
     "data": {
      "image/png": "[encoded data removed]",
      "text/plain": [
       "<Figure size 640x480 with 1 Axes>"
      ]
     },
     "metadata": {},
     "output_type": "display_data"
    }
   ],
   "source": [
    "plt.scatter(df[\"cgpa\"], \n",
    "            df[\"iq\"], \n",
    "            c = df[\"clusters\"]\n",
    "            )"
   ]
  },
  {
   "cell_type": "code",
   "execution_count": null,
   "id": "2a033fc4-4c01-42d6-8754-e01a387cf3fa",
   "metadata": {},
   "outputs": [],
   "source": []
  },
  {
   "cell_type": "code",
   "execution_count": null,
   "id": "5e30c5a3-011f-4d99-8bea-e758102b0518",
   "metadata": {},
   "outputs": [],
   "source": []
  }
 ],
 "metadata": {
  "kernelspec": {
   "display_name": "Python 3 (ipykernel)",
   "language": "python",
   "name": "python3"
  },
  "language_info": {
   "codemirror_mode": {
    "name": "ipython",
    "version": 3
   },
   "file_extension": ".py",
   "mimetype": "text/x-python",
   "name": "python",
   "nbconvert_exporter": "python",
   "pygments_lexer": "ipython3",
   "version": "3.10.2"
  }
 },
 "nbformat": 4,
 "nbformat_minor": 5
}
