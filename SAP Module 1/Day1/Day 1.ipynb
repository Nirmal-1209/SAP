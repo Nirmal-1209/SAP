{
 "cells": [
  {
   "cell_type": "code",
   "execution_count": 55,
   "id": "bed3ef78-7fec-46c9-811a-706da1b209c9",
   "metadata": {},
   "outputs": [],
   "source": [
    "# create a list for 5 different elements"
   ]
  },
  {
   "cell_type": "code",
   "execution_count": 56,
   "id": "cf9272d3-da57-4e14-96ff-3c6fadfa24be",
   "metadata": {},
   "outputs": [],
   "source": [
    "a = [23, 'c', \"orange\", \"melons\", 5]"
   ]
  },
  {
   "cell_type": "code",
   "execution_count": 57,
   "id": "73f2861c-863f-420e-8941-95420447cd46",
   "metadata": {},
   "outputs": [],
   "source": [
    "import pandas as pd\n",
    "import csv\n",
    "import numpy as np"
   ]
  },
  {
   "cell_type": "code",
   "execution_count": 58,
   "id": "68c519e6-348d-42ad-8eb4-cc39afe0630b",
   "metadata": {},
   "outputs": [],
   "source": [
    "myvar = pd.Series(a)"
   ]
  },
  {
   "cell_type": "code",
   "execution_count": 59,
   "id": "9cfaf255-fa70-45a4-b28b-835876cd0b4b",
   "metadata": {},
   "outputs": [
    {
     "data": {
      "text/plain": [
       "0        23\n",
       "1         c\n",
       "2    orange\n",
       "3    melons\n",
       "4         5\n",
       "dtype: object"
      ]
     },
     "execution_count": 59,
     "metadata": {},
     "output_type": "execute_result"
    }
   ],
   "source": [
    "myvar"
   ]
  },
  {
   "cell_type": "code",
   "execution_count": 60,
   "id": "e43ae9da-b702-41ac-8478-a2c49eb50ef9",
   "metadata": {},
   "outputs": [
    {
     "name": "stdout",
     "output_type": "stream",
     "text": [
      "<class 'list'>\n"
     ]
    }
   ],
   "source": [
    "print(type(a))\n"
   ]
  },
  {
   "cell_type": "code",
   "execution_count": 61,
   "id": "05e39435-3330-41ad-9726-a83f3c7af3e2",
   "metadata": {},
   "outputs": [
    {
     "name": "stdout",
     "output_type": "stream",
     "text": [
      "<class 'pandas.core.series.Series'>\n"
     ]
    }
   ],
   "source": [
    "print(type(myvar))"
   ]
  },
  {
   "cell_type": "code",
   "execution_count": 63,
   "id": "89d5d828-6048-440e-a2cc-56f5dd5ad8e5",
   "metadata": {},
   "outputs": [],
   "source": [
    "df1 = pd.DataFrame(b)"
   ]
  },
  {
   "cell_type": "code",
   "execution_count": 62,
   "id": "442e952c-c193-4511-80ef-6e330869d808",
   "metadata": {},
   "outputs": [],
   "source": [
    "b = {'Name': ['John', 'Emily', 'Mike', 'Lisa'], 'Age': [28, 23, 35, 31], 'Gender': ['M', 'F', 'M', 'F']}"
   ]
  },
  {
   "cell_type": "code",
   "execution_count": 64,
   "id": "86470da5-c066-43a8-ba48-1ba15d24ab12",
   "metadata": {},
   "outputs": [
    {
     "name": "stdout",
     "output_type": "stream",
     "text": [
      "    Name  Age Gender\n",
      "0   John   28      M\n",
      "1  Emily   23      F\n",
      "2   Mike   35      M\n",
      "3   Lisa   31      F\n"
     ]
    }
   ],
   "source": [
    "print(df1)"
   ]
  },
  {
   "cell_type": "code",
   "execution_count": 65,
   "id": "2553a2c2-ff33-42ab-ba36-438588729074",
   "metadata": {},
   "outputs": [],
   "source": [
    "b1 = df1.to_csv('B1.csv')"
   ]
  },
  {
   "cell_type": "code",
   "execution_count": 66,
   "id": "30b155c1-50e7-4a18-9477-45de6abbd7af",
   "metadata": {},
   "outputs": [
    {
     "name": "stdout",
     "output_type": "stream",
     "text": [
      "None\n"
     ]
    }
   ],
   "source": [
    "print(b1)"
   ]
  },
  {
   "cell_type": "code",
   "execution_count": 67,
   "id": "2a1f91f6-0978-42c8-9cd8-497c320e5504",
   "metadata": {},
   "outputs": [
    {
     "name": "stdout",
     "output_type": "stream",
     "text": [
      "    Name  Age Gender\n",
      "0   John   28      M\n",
      "1  Emily   23      F\n",
      "2   Mike   35      M\n",
      "3   Lisa   31      F\n"
     ]
    }
   ],
   "source": [
    "print(df1)"
   ]
  },
  {
   "cell_type": "code",
   "execution_count": 68,
   "id": "c70d7bf3-387d-4de4-b720-d4119326f7d5",
   "metadata": {},
   "outputs": [],
   "source": [
    "b1 = pd.read_csv('B1.csv')"
   ]
  },
  {
   "cell_type": "code",
   "execution_count": 69,
   "id": "13593ffa-89e2-4be7-8269-600ae2de4e88",
   "metadata": {},
   "outputs": [
    {
     "name": "stdout",
     "output_type": "stream",
     "text": [
      "   Unnamed: 0   Name  Age Gender\n",
      "0           0   John   28      M\n",
      "1           1  Emily   23      F\n",
      "2           2   Mike   35      M\n",
      "3           3   Lisa   31      F\n"
     ]
    }
   ],
   "source": [
    "print(b1)"
   ]
  },
  {
   "cell_type": "code",
   "execution_count": null,
   "id": "34b036f5-c56e-466c-9733-8ea76e93fbdd",
   "metadata": {},
   "outputs": [],
   "source": []
  },
  {
   "cell_type": "code",
   "execution_count": 70,
   "id": "aaf4767b-902d-4804-a9c6-e5d7c1aa63f1",
   "metadata": {},
   "outputs": [
    {
     "ename": "MemoryError",
     "evalue": "Unable to allocate 1.00 GiB for an array with shape (1048576, 256) and data type int32",
     "output_type": "error",
     "traceback": [
      "\u001b[1;31m---------------------------------------------------------------------------\u001b[0m",
      "\u001b[1;31mMemoryError\u001b[0m                               Traceback (most recent call last)",
      "Cell \u001b[1;32mIn[70], line 1\u001b[0m\n\u001b[1;32m----> 1\u001b[0m df \u001b[38;5;241m=\u001b[39m pd\u001b[38;5;241m.\u001b[39mconcat([pd\u001b[38;5;241m.\u001b[39mDataFrame(np\u001b[38;5;241m.\u001b[39mrandom\u001b[38;5;241m.\u001b[39mrandint(\u001b[38;5;241m0\u001b[39m, \u001b[38;5;241m100\u001b[39m, size\u001b[38;5;241m=\u001b[39m(\u001b[38;5;241m2\u001b[39m\u001b[38;5;241m*\u001b[39m\u001b[38;5;241m*\u001b[39m\u001b[38;5;241m20\u001b[39m, \u001b[38;5;241m2\u001b[39m\u001b[38;5;241m*\u001b[39m\u001b[38;5;241m*\u001b[39m\u001b[38;5;241m8\u001b[39m))) \u001b[38;5;28;01mfor\u001b[39;00m _ \u001b[38;5;129;01min\u001b[39;00m \u001b[38;5;28mrange\u001b[39m(\u001b[38;5;241m40\u001b[39m)]) \n",
      "Cell \u001b[1;32mIn[70], line 1\u001b[0m, in \u001b[0;36m<listcomp>\u001b[1;34m(.0)\u001b[0m\n\u001b[1;32m----> 1\u001b[0m df \u001b[38;5;241m=\u001b[39m pd\u001b[38;5;241m.\u001b[39mconcat([pd\u001b[38;5;241m.\u001b[39mDataFrame(\u001b[43mnp\u001b[49m\u001b[38;5;241;43m.\u001b[39;49m\u001b[43mrandom\u001b[49m\u001b[38;5;241;43m.\u001b[39;49m\u001b[43mrandint\u001b[49m\u001b[43m(\u001b[49m\u001b[38;5;241;43m0\u001b[39;49m\u001b[43m,\u001b[49m\u001b[43m \u001b[49m\u001b[38;5;241;43m100\u001b[39;49m\u001b[43m,\u001b[49m\u001b[43m \u001b[49m\u001b[43msize\u001b[49m\u001b[38;5;241;43m=\u001b[39;49m\u001b[43m(\u001b[49m\u001b[38;5;241;43m2\u001b[39;49m\u001b[38;5;241;43m*\u001b[39;49m\u001b[38;5;241;43m*\u001b[39;49m\u001b[38;5;241;43m20\u001b[39;49m\u001b[43m,\u001b[49m\u001b[43m \u001b[49m\u001b[38;5;241;43m2\u001b[39;49m\u001b[38;5;241;43m*\u001b[39;49m\u001b[38;5;241;43m*\u001b[39;49m\u001b[38;5;241;43m8\u001b[39;49m\u001b[43m)\u001b[49m\u001b[43m)\u001b[49m) \u001b[38;5;28;01mfor\u001b[39;00m _ \u001b[38;5;129;01min\u001b[39;00m \u001b[38;5;28mrange\u001b[39m(\u001b[38;5;241m40\u001b[39m)]) \n",
      "File \u001b[1;32mmtrand.pyx:746\u001b[0m, in \u001b[0;36mnumpy.random.mtrand.RandomState.randint\u001b[1;34m()\u001b[0m\n",
      "File \u001b[1;32m_bounded_integers.pyx:1347\u001b[0m, in \u001b[0;36mnumpy.random._bounded_integers._rand_int32\u001b[1;34m()\u001b[0m\n",
      "\u001b[1;31mMemoryError\u001b[0m: Unable to allocate 1.00 GiB for an array with shape (1048576, 256) and data type int32"
     ]
    }
   ],
   "source": [
    "#df = pd.concat([pd.DataFrame(np.random.randint(0, 100, size=(2**20, 2**8))) for _ in range(40)]) "
   ]
  },
  {
   "cell_type": "code",
   "execution_count": 1,
   "id": "923d8cb8-e181-4692-85a8-b8a60072e1a4",
   "metadata": {},
   "outputs": [
    {
     "ename": "NameError",
     "evalue": "name 'pd' is not defined",
     "output_type": "error",
     "traceback": [
      "\u001b[1;31m---------------------------------------------------------------------------\u001b[0m",
      "\u001b[1;31mNameError\u001b[0m                                 Traceback (most recent call last)",
      "Cell \u001b[1;32mIn[1], line 1\u001b[0m\n\u001b[1;32m----> 1\u001b[0m df \u001b[38;5;241m=\u001b[39m \u001b[43mpd\u001b[49m\u001b[38;5;241m.\u001b[39mread_csv(\u001b[38;5;124m'\u001b[39m\u001b[38;5;124mcar_data.csv\u001b[39m\u001b[38;5;124m'\u001b[39m)\n",
      "\u001b[1;31mNameError\u001b[0m: name 'pd' is not defined"
     ]
    }
   ],
   "source": []
  },
  {
   "cell_type": "code",
   "execution_count": 18,
   "id": "fa2c12a6-96f7-44c0-baff-9ad92e791b2d",
   "metadata": {},
   "outputs": [],
   "source": [
    "import pandas as pd\n",
    "import numpy as np\n",
    "import matplotlib as mp"
   ]
  },
  {
   "cell_type": "code",
   "execution_count": 19,
   "id": "04c32105-5df1-4561-b9da-c481f8f34274",
   "metadata": {},
   "outputs": [],
   "source": [
    "df = pd.read_csv('car_data.csv')"
   ]
  },
  {
   "cell_type": "code",
   "execution_count": 20,
   "id": "596e2b36-953b-44a8-8e53-4ab382ef1421",
   "metadata": {},
   "outputs": [
    {
     "name": "stdout",
     "output_type": "stream",
     "text": [
      "    Car_Name  Year  Selling_Price  Present_Price  Kms_Driven Fuel_Type  \\\n",
      "0       ritz  2014           3.35           5.59       27000    Petrol   \n",
      "1        sx4  2013           4.75           9.54       43000    Diesel   \n",
      "2       ciaz  2017           7.25           9.85        6900    Petrol   \n",
      "3    wagon r  2011           2.85           4.15        5200    Petrol   \n",
      "4      swift  2014           4.60           6.87       42450    Diesel   \n",
      "..       ...   ...            ...            ...         ...       ...   \n",
      "296     city  2016           9.50          11.60       33988    Diesel   \n",
      "297     brio  2015           4.00           5.90       60000    Petrol   \n",
      "298     city  2009           3.35          11.00       87934    Petrol   \n",
      "299     city  2017          11.50          12.50        9000    Diesel   \n",
      "300     brio  2016           5.30           5.90        5464    Petrol   \n",
      "\n",
      "    Seller_Type Transmission  Owner  \n",
      "0        Dealer       Manual      0  \n",
      "1        Dealer       Manual      0  \n",
      "2        Dealer       Manual      0  \n",
      "3        Dealer       Manual      0  \n",
      "4        Dealer       Manual      0  \n",
      "..          ...          ...    ...  \n",
      "296      Dealer       Manual      0  \n",
      "297      Dealer       Manual      0  \n",
      "298      Dealer       Manual      0  \n",
      "299      Dealer       Manual      0  \n",
      "300      Dealer       Manual      0  \n",
      "\n",
      "[301 rows x 9 columns]\n"
     ]
    }
   ],
   "source": [
    "print(df)"
   ]
  },
  {
   "cell_type": "code",
   "execution_count": 21,
   "id": "176743e7-6f69-4657-b6df-a10b020ba227",
   "metadata": {},
   "outputs": [
    {
     "name": "stdout",
     "output_type": "stream",
     "text": [
      "<class 'pandas.core.frame.DataFrame'>\n"
     ]
    }
   ],
   "source": [
    "print(type(df))"
   ]
  },
  {
   "cell_type": "code",
   "execution_count": 22,
   "id": "97f0e459-0ad3-43fd-8bff-5c959dfdba2e",
   "metadata": {},
   "outputs": [
    {
     "name": "stdout",
     "output_type": "stream",
     "text": [
      "                      Car_Name  Year  Selling_Price  Present_Price  Kms_Driven Fuel_Type Seller_Type Transmission  Owner\n",
      "0                         ritz  2014           3.35          5.590       27000    Petrol      Dealer       Manual      0\n",
      "1                          sx4  2013           4.75          9.540       43000    Diesel      Dealer       Manual      0\n",
      "2                         ciaz  2017           7.25          9.850        6900    Petrol      Dealer       Manual      0\n",
      "3                      wagon r  2011           2.85          4.150        5200    Petrol      Dealer       Manual      0\n",
      "4                        swift  2014           4.60          6.870       42450    Diesel      Dealer       Manual      0\n",
      "5                vitara brezza  2018           9.25          9.830        2071    Diesel      Dealer       Manual      0\n",
      "6                         ciaz  2015           6.75          8.120       18796    Petrol      Dealer       Manual      0\n",
      "7                      s cross  2015           6.50          8.610       33429    Diesel      Dealer       Manual      0\n",
      "8                         ciaz  2016           8.75          8.890       20273    Diesel      Dealer       Manual      0\n",
      "9                         ciaz  2015           7.45          8.920       42367    Diesel      Dealer       Manual      0\n",
      "10                    alto 800  2017           2.85          3.600        2135    Petrol      Dealer       Manual      0\n",
      "11                        ciaz  2015           6.85         10.380       51000    Diesel      Dealer       Manual      0\n",
      "12                        ciaz  2015           7.50          9.940       15000    Petrol      Dealer    Automatic      0\n",
      "13                      ertiga  2015           6.10          7.710       26000    Petrol      Dealer       Manual      0\n",
      "14                       dzire  2009           2.25          7.210       77427    Petrol      Dealer       Manual      0\n",
      "15                      ertiga  2016           7.75         10.790       43000    Diesel      Dealer       Manual      0\n",
      "16                      ertiga  2015           7.25         10.790       41678    Diesel      Dealer       Manual      0\n",
      "17                      ertiga  2016           7.75         10.790       43000    Diesel      Dealer       Manual      0\n",
      "18                     wagon r  2015           3.25          5.090       35500       CNG      Dealer       Manual      0\n",
      "19                         sx4  2010           2.65          7.980       41442    Petrol      Dealer       Manual      0\n",
      "20                    alto k10  2016           2.85          3.950       25000    Petrol      Dealer       Manual      0\n",
      "21                       ignis  2017           4.90          5.710        2400    Petrol      Dealer       Manual      0\n",
      "22                         sx4  2011           4.40          8.010       50000    Petrol      Dealer    Automatic      0\n",
      "23                    alto k10  2014           2.50          3.460       45280    Petrol      Dealer       Manual      0\n",
      "24                     wagon r  2013           2.90          4.410       56879    Petrol      Dealer       Manual      0\n",
      "25                       swift  2011           3.00          4.990       20000    Petrol      Dealer       Manual      0\n",
      "26                       swift  2013           4.15          5.870       55138    Petrol      Dealer       Manual      0\n",
      "27                       swift  2017           6.00          6.490       16200    Petrol  Individual       Manual      0\n",
      "28                    alto k10  2010           1.95          3.950       44542    Petrol      Dealer       Manual      0\n",
      "29                        ciaz  2015           7.45         10.380       45000    Diesel      Dealer       Manual      0\n",
      "30                        ritz  2012           3.10          5.980       51439    Diesel      Dealer       Manual      0\n",
      "31                        ritz  2011           2.35          4.890       54200    Petrol      Dealer       Manual      0\n",
      "32                       swift  2014           4.95          7.490       39000    Diesel      Dealer       Manual      0\n",
      "33                      ertiga  2014           6.00          9.950       45000    Diesel      Dealer       Manual      0\n",
      "34                       dzire  2014           5.50          8.060       45000    Diesel      Dealer       Manual      0\n",
      "35                         sx4  2011           2.95          7.740       49998       CNG      Dealer       Manual      0\n",
      "36                       dzire  2015           4.65          7.200       48767    Petrol      Dealer       Manual      0\n",
      "37                         800  2003           0.35          2.280      127000    Petrol  Individual       Manual      0\n",
      "38                    alto k10  2016           3.00          3.760       10079    Petrol      Dealer       Manual      0\n",
      "39                         sx4  2003           2.25          7.980       62000    Petrol      Dealer       Manual      0\n",
      "40                      baleno  2016           5.85          7.870       24524    Petrol      Dealer    Automatic      0\n",
      "41                    alto k10  2014           2.55          3.980       46706    Petrol      Dealer       Manual      0\n",
      "42                         sx4  2008           1.95          7.150       58000    Petrol      Dealer       Manual      0\n",
      "43                       dzire  2014           5.50          8.060       45780    Diesel      Dealer       Manual      0\n",
      "44                        omni  2012           1.25          2.690       50000    Petrol      Dealer       Manual      0\n",
      "45                        ciaz  2014           7.50         12.040       15000    Petrol      Dealer    Automatic      0\n",
      "46                        ritz  2013           2.65          4.890       64532    Petrol      Dealer       Manual      0\n",
      "47                     wagon r  2006           1.05          4.150       65000    Petrol      Dealer       Manual      0\n",
      "48                      ertiga  2015           5.80          7.710       25870    Petrol      Dealer       Manual      0\n",
      "49                        ciaz  2017           7.75          9.290       37000    Petrol      Dealer    Automatic      0\n",
      "50                    fortuner  2012          14.90         30.610      104707    Diesel      Dealer    Automatic      0\n",
      "51                    fortuner  2015          23.00         30.610       40000    Diesel      Dealer    Automatic      0\n",
      "52                      innova  2017          18.00         19.770       15000    Diesel      Dealer    Automatic      0\n",
      "53                    fortuner  2013          16.00         30.610      135000    Diesel  Individual    Automatic      0\n",
      "54                      innova  2005           2.75         10.210       90000    Petrol  Individual       Manual      0\n",
      "55               corolla altis  2009           3.60         15.040       70000    Petrol      Dealer    Automatic      0\n",
      "56                 etios cross  2015           4.50          7.270       40534    Petrol      Dealer       Manual      0\n",
      "57               corolla altis  2010           4.75         18.540       50000    Petrol      Dealer       Manual      0\n",
      "58                     etios g  2014           4.10          6.800       39485    Petrol      Dealer       Manual      1\n",
      "59                    fortuner  2014          19.99         35.960       41000    Diesel      Dealer    Automatic      0\n",
      "60               corolla altis  2013           6.95         18.610       40001    Petrol      Dealer       Manual      0\n",
      "61                 etios cross  2015           4.50          7.700       40588    Petrol      Dealer       Manual      0\n",
      "62                    fortuner  2014          18.75         35.960       78000    Diesel      Dealer    Automatic      0\n",
      "63                    fortuner  2015          23.50         35.960       47000    Diesel      Dealer    Automatic      0\n",
      "64                    fortuner  2017          33.00         36.230        6000    Diesel      Dealer    Automatic      0\n",
      "65                  etios liva  2014           4.75          6.950       45000    Diesel      Dealer       Manual      0\n",
      "66                      innova  2017          19.75         23.150       11000    Petrol      Dealer    Automatic      0\n",
      "67                    fortuner  2010           9.25         20.450       59000    Diesel      Dealer       Manual      0\n",
      "68               corolla altis  2011           4.35         13.740       88000    Petrol      Dealer       Manual      0\n",
      "69               corolla altis  2016          14.25         20.910       12000    Petrol      Dealer       Manual      0\n",
      "70                  etios liva  2014           3.95          6.760       71000    Diesel      Dealer       Manual      0\n",
      "71               corolla altis  2011           4.50         12.480       45000    Diesel      Dealer       Manual      0\n",
      "72               corolla altis  2013           7.45         18.610       56001    Petrol      Dealer       Manual      0\n",
      "73                  etios liva  2011           2.65          5.710       43000    Petrol      Dealer       Manual      0\n",
      "74                 etios cross  2014           4.90          8.930       83000    Diesel      Dealer       Manual      0\n",
      "75                     etios g  2015           3.95          6.800       36000    Petrol      Dealer       Manual      0\n",
      "76               corolla altis  2013           5.50         14.680       72000    Petrol      Dealer       Manual      0\n",
      "77                     corolla  2004           1.50         12.350      135154    Petrol      Dealer    Automatic      0\n",
      "78               corolla altis  2010           5.25         22.830       80000    Petrol      Dealer    Automatic      0\n",
      "79                    fortuner  2012          14.50         30.610       89000    Diesel      Dealer    Automatic      0\n",
      "80               corolla altis  2016          14.73         14.890       23000    Diesel      Dealer       Manual      0\n",
      "81                    etios gd  2015           4.75          7.850       40000    Diesel      Dealer       Manual      0\n",
      "82                      innova  2017          23.00         25.390       15000    Diesel      Dealer    Automatic      0\n",
      "83                      innova  2015          12.50         13.460       38000    Diesel      Dealer       Manual      0\n",
      "84                      innova  2005           3.49         13.460      197176    Diesel      Dealer       Manual      0\n",
      "85                       camry  2006           2.50         23.730      142000    Petrol  Individual    Automatic      3\n",
      "86                land cruiser  2010          35.00         92.600       78000    Diesel      Dealer       Manual      0\n",
      "87               corolla altis  2012           5.90         13.740       56000    Petrol      Dealer       Manual      0\n",
      "88                  etios liva  2013           3.45          6.050       47000    Petrol      Dealer       Manual      0\n",
      "89                     etios g  2014           4.75          6.760       40000    Petrol      Dealer       Manual      0\n",
      "90               corolla altis  2009           3.80         18.610       62000    Petrol      Dealer       Manual      0\n",
      "91                      innova  2014          11.25         16.090       58242    Diesel      Dealer       Manual      0\n",
      "92                      innova  2005           3.51         13.700       75000    Petrol      Dealer       Manual      0\n",
      "93                    fortuner  2015          23.00         30.610       40000    Diesel      Dealer    Automatic      0\n",
      "94               corolla altis  2008           4.00         22.780       89000    Petrol      Dealer    Automatic      0\n",
      "95               corolla altis  2012           5.85         18.610       72000    Petrol      Dealer       Manual      0\n",
      "96                      innova  2016          20.75         25.390       29000    Diesel      Dealer    Automatic      0\n",
      "97               corolla altis  2017          17.00         18.640        8700    Petrol      Dealer       Manual      0\n",
      "98               corolla altis  2013           7.05         18.610       45000    Petrol      Dealer       Manual      0\n",
      "99                    fortuner  2010           9.65         20.450       50024    Diesel      Dealer       Manual      0\n",
      "100  Royal Enfield Thunder 500  2016           1.75          1.900        3000    Petrol  Individual       Manual      0\n",
      "101         UM Renegade Mojave  2017           1.70          1.820        1400    Petrol  Individual       Manual      0\n",
      "102                  KTM RC200  2017           1.65          1.780        4000    Petrol  Individual       Manual      0\n",
      "103          Bajaj Dominar 400  2017           1.45          1.600        1200    Petrol  Individual       Manual      0\n",
      "104  Royal Enfield Classic 350  2017           1.35          1.470        4100    Petrol  Individual       Manual      0\n",
      "105                  KTM RC390  2015           1.35          2.370       21700    Petrol  Individual       Manual      0\n",
      "106             Hyosung GT250R  2014           1.35          3.450       16500    Petrol  Individual       Manual      1\n",
      "107  Royal Enfield Thunder 350  2013           1.25          1.500       15000    Petrol  Individual       Manual      0\n",
      "108  Royal Enfield Thunder 350  2016           1.20          1.500       18000    Petrol  Individual       Manual      0\n",
      "109  Royal Enfield Classic 350  2017           1.20          1.470       11000    Petrol  Individual       Manual      0\n",
      "110                  KTM RC200  2016           1.20          1.780        6000    Petrol  Individual       Manual      0\n",
      "111  Royal Enfield Thunder 350  2016           1.15          1.500        8700    Petrol  Individual       Manual      0\n",
      "112              KTM 390 Duke   2014           1.15          2.400        7000    Petrol  Individual       Manual      0\n",
      "113        Mahindra Mojo XT300  2016           1.15          1.400       35000    Petrol  Individual       Manual      0\n",
      "114  Royal Enfield Classic 350  2015           1.15          1.470       17000    Petrol  Individual       Manual      0\n",
      "115  Royal Enfield Classic 350  2015           1.11          1.470       17500    Petrol  Individual       Manual      0\n",
      "116  Royal Enfield Classic 350  2013           1.10          1.470       33000    Petrol  Individual       Manual      0\n",
      "117  Royal Enfield Thunder 500  2015           1.10          1.900       14000    Petrol  Individual       Manual      0\n",
      "118  Royal Enfield Classic 350  2015           1.10          1.470       26000    Petrol  Individual       Manual      0\n",
      "119  Royal Enfield Thunder 500  2013           1.05          1.900        5400    Petrol  Individual       Manual      0\n",
      "120         Bajaj Pulsar RS200  2016           1.05          1.260        5700    Petrol  Individual       Manual      0\n",
      "121  Royal Enfield Thunder 350  2011           1.05          1.500        6900    Petrol  Individual       Manual      0\n",
      "122   Royal Enfield Bullet 350  2016           1.05          1.170        6000    Petrol  Individual       Manual      0\n",
      "123  Royal Enfield Classic 350  2013           1.00          1.470       46500    Petrol  Individual       Manual      0\n",
      "124  Royal Enfield Classic 500  2012           0.95          1.750       11500    Petrol  Individual       Manual      0\n",
      "125  Royal Enfield Classic 500  2009           0.90          1.750       40000    Petrol  Individual       Manual      0\n",
      "126          Bajaj Avenger 220  2017           0.90          0.950        1300    Petrol  Individual       Manual      0\n",
      "127          Bajaj Avenger 150  2016           0.75          0.800        7000    Petrol  Individual       Manual      0\n",
      "128       Honda CB Hornet 160R  2017           0.80          0.870        3000    Petrol  Individual       Manual      0\n",
      "129          Yamaha FZ S V 2.0  2017           0.78          0.840        5000    Petrol  Individual       Manual      0\n",
      "130       Honda CB Hornet 160R  2017           0.75          0.870       11000    Petrol  Individual       Manual      0\n",
      "131               Yamaha FZ 16  2015           0.75          0.820       18000    Petrol  Individual       Manual      0\n",
      "132          Bajaj Avenger 220  2017           0.75          0.950        3500    Petrol  Individual       Manual      0\n",
      "133          Bajaj Avenger 220  2016           0.72          0.950         500    Petrol  Individual       Manual      0\n",
      "134         TVS Apache RTR 160  2017           0.65          0.810       11800    Petrol  Individual       Manual      0\n",
      "135           Bajaj Pulsar 150  2015           0.65          0.740        5000    Petrol  Individual       Manual      0\n",
      "136              Honda CBR 150  2014           0.65          1.200       23500    Petrol  Individual       Manual      0\n",
      "137               Hero Extreme  2013           0.65          0.787       16000    Petrol  Individual       Manual      0\n",
      "138       Honda CB Hornet 160R  2016           0.60          0.870       15000    Petrol  Individual       Manual      0\n",
      "139     Bajaj Avenger 220 dtsi  2015           0.60          0.950       16600    Petrol  Individual       Manual      0\n",
      "140              Honda CBR 150  2013           0.60          1.200       32000    Petrol  Individual       Manual      0\n",
      "141   Bajaj Avenger 150 street  2016           0.60          0.800       20000    Petrol  Individual       Manual      0\n",
      "142           Yamaha FZ  v 2.0  2015           0.60          0.840       29000    Petrol  Individual       Manual      0\n",
      "143           Yamaha FZ  v 2.0  2016           0.60          0.840       25000    Petrol  Individual       Manual      0\n",
      "144       Bajaj Pulsar  NS 200  2014           0.60          0.990       25000    Petrol  Individual       Manual      0\n",
      "145         TVS Apache RTR 160  2012           0.60          0.810       19000    Petrol  Individual       Manual      0\n",
      "146               Hero Extreme  2014           0.55          0.787       15000    Petrol  Individual       Manual      0\n",
      "147          Yamaha FZ S V 2.0  2015           0.55          0.840       58000    Petrol  Individual       Manual      0\n",
      "148         Bajaj Pulsar 220 F  2010           0.52          0.940       45000    Petrol  Individual       Manual      0\n",
      "149         Bajaj Pulsar 220 F  2016           0.51          0.940       24000    Petrol  Individual       Manual      0\n",
      "150         TVS Apache RTR 180  2011           0.50          0.826        6000    Petrol  Individual       Manual      0\n",
      "151         Hero Passion X pro  2016           0.50          0.550       31000    Petrol  Individual       Manual      0\n",
      "152        Bajaj Pulsar NS 200  2012           0.50          0.990       13000    Petrol  Individual       Manual      0\n",
      "153        Bajaj Pulsar NS 200  2013           0.50          0.990       45000    Petrol  Individual       Manual      0\n",
      "154              Yamaha Fazer   2014           0.50          0.880        8000    Petrol  Individual       Manual      0\n",
      "155            Honda Activa 4G  2017           0.48          0.510        4300    Petrol  Individual    Automatic      0\n",
      "156                 TVS Sport   2017           0.48          0.520       15000    Petrol  Individual       Manual      0\n",
      "157          Yamaha FZ S V 2.0  2015           0.48          0.840       23000    Petrol  Individual       Manual      0\n",
      "158          Honda Dream Yuga   2017           0.48          0.540        8600    Petrol  Individual       Manual      0\n",
      "159            Honda Activa 4G  2017           0.45          0.510        4000    Petrol  Individual    Automatic      0\n",
      "160   Bajaj Avenger Street 220  2011           0.45          0.950       24000    Petrol  Individual       Manual      0\n",
      "161         TVS Apache RTR 180  2014           0.45          0.826       23000    Petrol  Individual       Manual      0\n",
      "162        Bajaj Pulsar NS 200  2012           0.45          0.990       14500    Petrol  Individual       Manual      0\n",
      "163     Bajaj Avenger 220 dtsi  2010           0.45          0.950       27000    Petrol  Individual       Manual      0\n",
      "164       Hero Splender iSmart  2016           0.45          0.540       14000    Petrol  Individual       Manual      0\n",
      "165                  Activa 3g  2016           0.45          0.540         500    Petrol  Individual    Automatic      0\n",
      "166           Hero Passion Pro  2016           0.45          0.550        1000    Petrol  Individual       Manual      0\n",
      "167         TVS Apache RTR 160  2014           0.42          0.810       42000    Petrol  Individual       Manual      0\n",
      "168           Honda CB Trigger  2013           0.42          0.730       12000    Petrol  Individual       Manual      0\n",
      "169       Hero Splender iSmart  2015           0.40          0.540       14000    Petrol  Individual       Manual      0\n",
      "170               Yamaha FZ S   2012           0.40          0.830        5500    Petrol  Individual       Manual      0\n",
      "171           Hero Passion Pro  2015           0.40          0.550        6700    Petrol  Individual       Manual      0\n",
      "172        Bajaj Pulsar 135 LS  2014           0.40          0.640       13700    Petrol  Individual       Manual      0\n",
      "173                  Activa 4g  2017           0.40          0.510        1300    Petrol  Individual    Automatic      0\n",
      "174           Honda CB Unicorn  2015           0.38          0.720       38600    Petrol  Individual       Manual      0\n",
      "175     Hero Honda CBZ extreme  2011           0.38          0.787       75000    Petrol  Individual       Manual      0\n",
      "176              Honda Karizma  2011           0.35          1.050       30000    Petrol  Individual       Manual      0\n",
      "177           Honda Activa 125  2016           0.35          0.570       24000    Petrol  Individual    Automatic      0\n",
      "178                TVS Jupyter  2014           0.35          0.520       19000    Petrol  Individual    Automatic      0\n",
      "179              Honda Karizma  2010           0.31          1.050      213000    Petrol  Individual       Manual      0\n",
      "180     Hero Honda Passion Pro  2012           0.30          0.510       60000    Petrol  Individual       Manual      0\n",
      "181         Hero Splender Plus  2016           0.30          0.480       50000    Petrol  Individual       Manual      0\n",
      "182             Honda CB Shine  2013           0.30          0.580       30000    Petrol  Individual       Manual      0\n",
      "183         Bajaj Discover 100  2013           0.27          0.470       21000    Petrol  Individual       Manual      0\n",
      "184           Bajaj Pulsar 150  2008           0.25          0.750       26000    Petrol  Individual       Manual      1\n",
      "185          Suzuki Access 125  2008           0.25          0.580        1900    Petrol  Individual    Automatic      0\n",
      "186                   TVS Wego  2010           0.25          0.520       22000    Petrol  Individual    Automatic      0\n",
      "187           Honda CB twister  2013           0.25          0.510       32000    Petrol  Individual       Manual      0\n",
      "188               Hero Glamour  2013           0.25          0.570       18000    Petrol  Individual       Manual      0\n",
      "189        Hero Super Splendor  2005           0.20          0.570       55000    Petrol  Individual       Manual      0\n",
      "190           Bajaj Pulsar 150  2008           0.20          0.750       60000    Petrol  Individual       Manual      0\n",
      "191         Bajaj Discover 125  2012           0.20          0.570       25000    Petrol  Individual       Manual      1\n",
      "192                  Hero Hunk  2007           0.20          0.750       49000    Petrol  Individual       Manual      1\n",
      "193         Hero  Ignitor Disc  2013           0.20          0.650       24000    Petrol  Individual       Manual      1\n",
      "194           Hero  CBZ Xtreme  2008           0.20          0.787       50000    Petrol  Individual       Manual      0\n",
      "195              Bajaj  ct 100  2015           0.18          0.320       35000    Petrol  Individual       Manual      0\n",
      "196                  Activa 3g  2008           0.17          0.520      500000    Petrol  Individual    Automatic      0\n",
      "197           Honda CB twister  2010           0.16          0.510       33000    Petrol  Individual       Manual      0\n",
      "198         Bajaj Discover 125  2011           0.15          0.570       35000    Petrol  Individual       Manual      1\n",
      "199             Honda CB Shine  2007           0.12          0.580       53000    Petrol  Individual       Manual      0\n",
      "200           Bajaj Pulsar 150  2006           0.10          0.750       92233    Petrol  Individual       Manual      0\n",
      "201                        i20  2010           3.25          6.790       58000    Diesel      Dealer       Manual      1\n",
      "202                  grand i10  2015           4.40          5.700       28200    Petrol      Dealer       Manual      0\n",
      "203                        i10  2011           2.95          4.600       53460    Petrol      Dealer       Manual      0\n",
      "204                        eon  2015           2.75          4.430       28282    Petrol      Dealer       Manual      0\n",
      "205                  grand i10  2016           5.25          5.700        3493    Petrol      Dealer       Manual      1\n",
      "206                      xcent  2017           5.75          7.130       12479    Petrol      Dealer       Manual      0\n",
      "207                  grand i10  2015           5.15          5.700       34797    Petrol      Dealer    Automatic      0\n",
      "208                        i20  2017           7.90          8.100        3435    Petrol      Dealer       Manual      0\n",
      "209                  grand i10  2015           4.85          5.700       21125    Diesel      Dealer       Manual      0\n",
      "210                        i10  2012           3.10          4.600       35775    Petrol      Dealer       Manual      0\n",
      "211                    elantra  2015          11.75         14.790       43535    Diesel      Dealer       Manual      0\n",
      "212                      creta  2016          11.25         13.600       22671    Petrol      Dealer       Manual      0\n",
      "213                        i20  2011           2.90          6.790       31604    Petrol      Dealer       Manual      0\n",
      "214                  grand i10  2017           5.25          5.700       20114    Petrol      Dealer       Manual      0\n",
      "215                      verna  2012           4.50          9.400       36100    Petrol      Dealer       Manual      0\n",
      "216                        eon  2016           2.90          4.430       12500    Petrol      Dealer       Manual      0\n",
      "217                        eon  2016           3.15          4.430       15000    Petrol      Dealer       Manual      0\n",
      "218                      verna  2014           6.45          9.400       45078    Petrol      Dealer       Manual      0\n",
      "219                      verna  2012           4.50          9.400       36000    Petrol      Dealer       Manual      0\n",
      "220                        eon  2017           3.50          4.430       38488    Petrol      Dealer       Manual      0\n",
      "221                        i20  2013           4.50          6.790       32000    Petrol      Dealer    Automatic      0\n",
      "222                        i20  2014           6.00          7.600       77632    Diesel      Dealer       Manual      0\n",
      "223                      verna  2015           8.25          9.400       61381    Diesel      Dealer       Manual      0\n",
      "224                      verna  2013           5.11          9.400       36198    Petrol      Dealer    Automatic      0\n",
      "225                        i10  2011           2.70          4.600       22517    Petrol      Dealer       Manual      0\n",
      "226                  grand i10  2015           5.25          5.700       24678    Petrol      Dealer       Manual      0\n",
      "227                        i10  2011           2.55          4.430       57000    Petrol      Dealer       Manual      0\n",
      "228                      verna  2012           4.95          9.400       60000    Diesel      Dealer       Manual      0\n",
      "229                        i20  2012           3.10          6.790       52132    Diesel      Dealer       Manual      0\n",
      "230                      verna  2013           6.15          9.400       45000    Diesel      Dealer       Manual      0\n",
      "231                      verna  2017           9.25          9.400       15001    Petrol      Dealer       Manual      0\n",
      "232                    elantra  2015          11.45         14.790       12900    Petrol      Dealer    Automatic      0\n",
      "233                  grand i10  2013           3.90          5.700       53000    Diesel      Dealer       Manual      0\n",
      "234                  grand i10  2015           5.50          5.700        4492    Petrol      Dealer       Manual      0\n",
      "235                      verna  2017           9.10          9.400       15141    Petrol      Dealer       Manual      0\n",
      "236                        eon  2016           3.10          4.430       11849    Petrol      Dealer       Manual      0\n",
      "237                      creta  2015          11.25         13.600       68000    Diesel      Dealer       Manual      0\n",
      "238                      verna  2013           4.80          9.400       60241    Petrol      Dealer       Manual      0\n",
      "239                        eon  2012           2.00          4.430       23709    Petrol      Dealer       Manual      0\n",
      "240                      verna  2012           5.35          9.400       32322    Diesel      Dealer       Manual      0\n",
      "241                      xcent  2015           4.75          7.130       35866    Petrol      Dealer       Manual      1\n",
      "242                      xcent  2014           4.40          7.130       34000    Petrol      Dealer       Manual      0\n",
      "243                        i20  2016           6.25          7.600        7000    Petrol      Dealer       Manual      0\n",
      "244                      verna  2013           5.95          9.400       49000    Diesel      Dealer       Manual      0\n",
      "245                      verna  2012           5.20          9.400       71000    Diesel      Dealer       Manual      0\n",
      "246                        i20  2012           3.75          6.790       35000    Petrol      Dealer       Manual      0\n",
      "247                      verna  2015           5.95          9.400       36000    Petrol      Dealer       Manual      0\n",
      "248                        i10  2013           4.00          4.600       30000    Petrol      Dealer       Manual      0\n",
      "249                        i20  2016           5.25          7.600       17000    Petrol      Dealer       Manual      0\n",
      "250                      creta  2016          12.90         13.600       35934    Diesel      Dealer       Manual      0\n",
      "251                       city  2013           5.00          9.900       56701    Petrol      Dealer       Manual      0\n",
      "252                       brio  2015           5.40          6.820       31427    Petrol      Dealer    Automatic      0\n",
      "253                       city  2014           7.20          9.900       48000    Diesel      Dealer       Manual      0\n",
      "254                       city  2013           5.25          9.900       54242    Petrol      Dealer       Manual      0\n",
      "255                       brio  2012           3.00          5.350       53675    Petrol      Dealer       Manual      0\n",
      "256                       city  2016          10.25         13.600       49562    Petrol      Dealer       Manual      0\n",
      "257                       city  2015           8.50         13.600       40324    Petrol      Dealer       Manual      0\n",
      "258                       city  2015           8.40         13.600       25000    Petrol      Dealer       Manual      0\n",
      "259                      amaze  2014           3.90          7.000       36054    Petrol      Dealer       Manual      0\n",
      "260                       city  2016           9.15         13.600       29223    Petrol      Dealer       Manual      0\n",
      "261                       brio  2016           5.50          5.970        5600    Petrol      Dealer       Manual      0\n",
      "262                      amaze  2015           4.00          5.800       40023    Petrol      Dealer       Manual      0\n",
      "263                       jazz  2016           6.60          7.700       16002    Petrol      Dealer       Manual      0\n",
      "264                      amaze  2015           4.00          7.000       40026    Petrol      Dealer       Manual      0\n",
      "265                       jazz  2017           6.50          8.700       21200    Petrol      Dealer       Manual      0\n",
      "266                      amaze  2014           3.65          7.000       35000    Petrol      Dealer       Manual      0\n",
      "267                       city  2016           8.35          9.400       19434    Diesel      Dealer       Manual      0\n",
      "268                       brio  2017           4.80          5.800       19000    Petrol      Dealer       Manual      0\n",
      "269                       city  2015           6.70         10.000       18828    Petrol      Dealer       Manual      0\n",
      "270                       city  2011           4.10         10.000       69341    Petrol      Dealer       Manual      0\n",
      "271                       city  2009           3.00         10.000       69562    Petrol      Dealer       Manual      0\n",
      "272                       city  2015           7.50         10.000       27600    Petrol      Dealer       Manual      0\n",
      "273                       jazz  2010           2.25          7.500       61203    Petrol      Dealer       Manual      0\n",
      "274                       brio  2014           5.30          6.800       16500    Petrol      Dealer       Manual      0\n",
      "275                       city  2016          10.90         13.600       30753    Petrol      Dealer    Automatic      0\n",
      "276                       city  2015           8.65         13.600       24800    Petrol      Dealer       Manual      0\n",
      "277                       city  2015           9.70         13.600       21780    Petrol      Dealer       Manual      0\n",
      "278                       jazz  2016           6.00          8.400        4000    Petrol      Dealer       Manual      0\n",
      "279                       city  2014           6.25         13.600       40126    Petrol      Dealer       Manual      0\n",
      "280                       brio  2015           5.25          5.900       14465    Petrol      Dealer       Manual      0\n",
      "281                       city  2006           2.10          7.600       50456    Petrol      Dealer       Manual      0\n",
      "282                       city  2014           8.25         14.000       63000    Diesel      Dealer       Manual      0\n",
      "283                       city  2016           8.99         11.800        9010    Petrol      Dealer       Manual      0\n",
      "284                       brio  2013           3.50          5.900        9800    Petrol      Dealer       Manual      0\n",
      "285                       jazz  2016           7.40          8.500       15059    Petrol      Dealer    Automatic      0\n",
      "286                       jazz  2016           5.65          7.900       28569    Petrol      Dealer       Manual      0\n",
      "287                      amaze  2015           5.75          7.500       44000    Petrol      Dealer    Automatic      0\n",
      "288                       city  2015           8.40         13.600       34000    Petrol      Dealer       Manual      0\n",
      "289                       city  2016          10.11         13.600       10980    Petrol      Dealer       Manual      0\n",
      "290                      amaze  2014           4.50          6.400       19000    Petrol      Dealer       Manual      0\n",
      "291                       brio  2015           5.40          6.100       31427    Petrol      Dealer       Manual      0\n",
      "292                       jazz  2016           6.40          8.400       12000    Petrol      Dealer       Manual      0\n",
      "293                       city  2010           3.25          9.900       38000    Petrol      Dealer       Manual      0\n",
      "294                      amaze  2014           3.75          6.800       33019    Petrol      Dealer       Manual      0\n",
      "295                       city  2015           8.55         13.090       60076    Diesel      Dealer       Manual      0\n",
      "296                       city  2016           9.50         11.600       33988    Diesel      Dealer       Manual      0\n",
      "297                       brio  2015           4.00          5.900       60000    Petrol      Dealer       Manual      0\n",
      "298                       city  2009           3.35         11.000       87934    Petrol      Dealer       Manual      0\n",
      "299                       city  2017          11.50         12.500        9000    Diesel      Dealer       Manual      0\n",
      "300                       brio  2016           5.30          5.900        5464    Petrol      Dealer       Manual      0\n"
     ]
    }
   ],
   "source": [
    "print(df.to_string())"
   ]
  },
  {
   "cell_type": "code",
   "execution_count": 23,
   "id": "1e25d94a-988f-4112-9b9a-e005339a87b7",
   "metadata": {},
   "outputs": [
    {
     "name": "stdout",
     "output_type": "stream",
     "text": [
      "<class 'pandas.core.frame.DataFrame'>\n",
      "RangeIndex: 301 entries, 0 to 300\n",
      "Data columns (total 9 columns):\n",
      " #   Column         Non-Null Count  Dtype  \n",
      "---  ------         --------------  -----  \n",
      " 0   Car_Name       301 non-null    object \n",
      " 1   Year           301 non-null    int64  \n",
      " 2   Selling_Price  301 non-null    float64\n",
      " 3   Present_Price  301 non-null    float64\n",
      " 4   Kms_Driven     301 non-null    int64  \n",
      " 5   Fuel_Type      301 non-null    object \n",
      " 6   Seller_Type    301 non-null    object \n",
      " 7   Transmission   301 non-null    object \n",
      " 8   Owner          301 non-null    int64  \n",
      "dtypes: float64(2), int64(3), object(4)\n",
      "memory usage: 21.3+ KB\n",
      "None\n"
     ]
    }
   ],
   "source": [
    "print(df.info())"
   ]
  },
  {
   "cell_type": "code",
   "execution_count": 24,
   "id": "33635493-2982-4209-b910-47eef1d60c6b",
   "metadata": {},
   "outputs": [
    {
     "name": "stdout",
     "output_type": "stream",
     "text": [
      "2003\n"
     ]
    }
   ],
   "source": [
    "print(df['Year'].min())"
   ]
  },
  {
   "cell_type": "code",
   "execution_count": 25,
   "id": "3d88af60-8373-49c4-aa5b-5601cbe00282",
   "metadata": {},
   "outputs": [
    {
     "name": "stdout",
     "output_type": "stream",
     "text": [
      "2018\n"
     ]
    }
   ],
   "source": [
    "print(df['Year'].max())"
   ]
  },
  {
   "cell_type": "code",
   "execution_count": 26,
   "id": "55ff0a00-4b51-4ffd-b079-169d5f5f265a",
   "metadata": {},
   "outputs": [
    {
     "data": {
      "text/html": [
       "<div>\n",
       "<style scoped>\n",
       "    .dataframe tbody tr th:only-of-type {\n",
       "        vertical-align: middle;\n",
       "    }\n",
       "\n",
       "    .dataframe tbody tr th {\n",
       "        vertical-align: top;\n",
       "    }\n",
       "\n",
       "    .dataframe thead th {\n",
       "        text-align: right;\n",
       "    }\n",
       "</style>\n",
       "<table border=\"1\" class=\"dataframe\">\n",
       "  <thead>\n",
       "    <tr style=\"text-align: right;\">\n",
       "      <th></th>\n",
       "      <th>Year</th>\n",
       "      <th>Selling_Price</th>\n",
       "      <th>Present_Price</th>\n",
       "      <th>Kms_Driven</th>\n",
       "      <th>Owner</th>\n",
       "    </tr>\n",
       "  </thead>\n",
       "  <tbody>\n",
       "    <tr>\n",
       "      <th>count</th>\n",
       "      <td>301.000000</td>\n",
       "      <td>301.000000</td>\n",
       "      <td>301.000000</td>\n",
       "      <td>301.000000</td>\n",
       "      <td>301.000000</td>\n",
       "    </tr>\n",
       "    <tr>\n",
       "      <th>mean</th>\n",
       "      <td>2013.627907</td>\n",
       "      <td>4.661296</td>\n",
       "      <td>7.628472</td>\n",
       "      <td>36947.205980</td>\n",
       "      <td>0.043189</td>\n",
       "    </tr>\n",
       "    <tr>\n",
       "      <th>std</th>\n",
       "      <td>2.891554</td>\n",
       "      <td>5.082812</td>\n",
       "      <td>8.644115</td>\n",
       "      <td>38886.883882</td>\n",
       "      <td>0.247915</td>\n",
       "    </tr>\n",
       "    <tr>\n",
       "      <th>min</th>\n",
       "      <td>2003.000000</td>\n",
       "      <td>0.100000</td>\n",
       "      <td>0.320000</td>\n",
       "      <td>500.000000</td>\n",
       "      <td>0.000000</td>\n",
       "    </tr>\n",
       "    <tr>\n",
       "      <th>25%</th>\n",
       "      <td>2012.000000</td>\n",
       "      <td>0.900000</td>\n",
       "      <td>1.200000</td>\n",
       "      <td>15000.000000</td>\n",
       "      <td>0.000000</td>\n",
       "    </tr>\n",
       "    <tr>\n",
       "      <th>50%</th>\n",
       "      <td>2014.000000</td>\n",
       "      <td>3.600000</td>\n",
       "      <td>6.400000</td>\n",
       "      <td>32000.000000</td>\n",
       "      <td>0.000000</td>\n",
       "    </tr>\n",
       "    <tr>\n",
       "      <th>75%</th>\n",
       "      <td>2016.000000</td>\n",
       "      <td>6.000000</td>\n",
       "      <td>9.900000</td>\n",
       "      <td>48767.000000</td>\n",
       "      <td>0.000000</td>\n",
       "    </tr>\n",
       "    <tr>\n",
       "      <th>max</th>\n",
       "      <td>2018.000000</td>\n",
       "      <td>35.000000</td>\n",
       "      <td>92.600000</td>\n",
       "      <td>500000.000000</td>\n",
       "      <td>3.000000</td>\n",
       "    </tr>\n",
       "  </tbody>\n",
       "</table>\n",
       "</div>"
      ],
      "text/plain": [
       "              Year  Selling_Price  Present_Price     Kms_Driven       Owner\n",
       "count   301.000000     301.000000     301.000000     301.000000  301.000000\n",
       "mean   2013.627907       4.661296       7.628472   36947.205980    0.043189\n",
       "std       2.891554       5.082812       8.644115   38886.883882    0.247915\n",
       "min    2003.000000       0.100000       0.320000     500.000000    0.000000\n",
       "25%    2012.000000       0.900000       1.200000   15000.000000    0.000000\n",
       "50%    2014.000000       3.600000       6.400000   32000.000000    0.000000\n",
       "75%    2016.000000       6.000000       9.900000   48767.000000    0.000000\n",
       "max    2018.000000      35.000000      92.600000  500000.000000    3.000000"
      ]
     },
     "execution_count": 26,
     "metadata": {},
     "output_type": "execute_result"
    }
   ],
   "source": [
    "df.describe()"
   ]
  },
  {
   "cell_type": "code",
   "execution_count": 27,
   "id": "5fcbe019-5841-44fd-b04f-9d8ab9781729",
   "metadata": {},
   "outputs": [
    {
     "data": {
      "text/html": [
       "<div>\n",
       "<style scoped>\n",
       "    .dataframe tbody tr th:only-of-type {\n",
       "        vertical-align: middle;\n",
       "    }\n",
       "\n",
       "    .dataframe tbody tr th {\n",
       "        vertical-align: top;\n",
       "    }\n",
       "\n",
       "    .dataframe thead th {\n",
       "        text-align: right;\n",
       "    }\n",
       "</style>\n",
       "<table border=\"1\" class=\"dataframe\">\n",
       "  <thead>\n",
       "    <tr style=\"text-align: right;\">\n",
       "      <th></th>\n",
       "      <th>Car_Name</th>\n",
       "      <th>Year</th>\n",
       "      <th>Selling_Price</th>\n",
       "      <th>Present_Price</th>\n",
       "      <th>Kms_Driven</th>\n",
       "      <th>Fuel_Type</th>\n",
       "      <th>Seller_Type</th>\n",
       "      <th>Transmission</th>\n",
       "      <th>Owner</th>\n",
       "    </tr>\n",
       "  </thead>\n",
       "  <tbody>\n",
       "    <tr>\n",
       "      <th>0</th>\n",
       "      <td>False</td>\n",
       "      <td>False</td>\n",
       "      <td>False</td>\n",
       "      <td>False</td>\n",
       "      <td>False</td>\n",
       "      <td>False</td>\n",
       "      <td>False</td>\n",
       "      <td>False</td>\n",
       "      <td>False</td>\n",
       "    </tr>\n",
       "    <tr>\n",
       "      <th>1</th>\n",
       "      <td>False</td>\n",
       "      <td>False</td>\n",
       "      <td>False</td>\n",
       "      <td>False</td>\n",
       "      <td>False</td>\n",
       "      <td>False</td>\n",
       "      <td>False</td>\n",
       "      <td>False</td>\n",
       "      <td>False</td>\n",
       "    </tr>\n",
       "    <tr>\n",
       "      <th>2</th>\n",
       "      <td>False</td>\n",
       "      <td>False</td>\n",
       "      <td>False</td>\n",
       "      <td>False</td>\n",
       "      <td>False</td>\n",
       "      <td>False</td>\n",
       "      <td>False</td>\n",
       "      <td>False</td>\n",
       "      <td>False</td>\n",
       "    </tr>\n",
       "    <tr>\n",
       "      <th>3</th>\n",
       "      <td>False</td>\n",
       "      <td>False</td>\n",
       "      <td>False</td>\n",
       "      <td>False</td>\n",
       "      <td>False</td>\n",
       "      <td>False</td>\n",
       "      <td>False</td>\n",
       "      <td>False</td>\n",
       "      <td>False</td>\n",
       "    </tr>\n",
       "    <tr>\n",
       "      <th>4</th>\n",
       "      <td>False</td>\n",
       "      <td>False</td>\n",
       "      <td>False</td>\n",
       "      <td>False</td>\n",
       "      <td>False</td>\n",
       "      <td>False</td>\n",
       "      <td>False</td>\n",
       "      <td>False</td>\n",
       "      <td>False</td>\n",
       "    </tr>\n",
       "    <tr>\n",
       "      <th>...</th>\n",
       "      <td>...</td>\n",
       "      <td>...</td>\n",
       "      <td>...</td>\n",
       "      <td>...</td>\n",
       "      <td>...</td>\n",
       "      <td>...</td>\n",
       "      <td>...</td>\n",
       "      <td>...</td>\n",
       "      <td>...</td>\n",
       "    </tr>\n",
       "    <tr>\n",
       "      <th>296</th>\n",
       "      <td>False</td>\n",
       "      <td>False</td>\n",
       "      <td>False</td>\n",
       "      <td>False</td>\n",
       "      <td>False</td>\n",
       "      <td>False</td>\n",
       "      <td>False</td>\n",
       "      <td>False</td>\n",
       "      <td>False</td>\n",
       "    </tr>\n",
       "    <tr>\n",
       "      <th>297</th>\n",
       "      <td>False</td>\n",
       "      <td>False</td>\n",
       "      <td>False</td>\n",
       "      <td>False</td>\n",
       "      <td>False</td>\n",
       "      <td>False</td>\n",
       "      <td>False</td>\n",
       "      <td>False</td>\n",
       "      <td>False</td>\n",
       "    </tr>\n",
       "    <tr>\n",
       "      <th>298</th>\n",
       "      <td>False</td>\n",
       "      <td>False</td>\n",
       "      <td>False</td>\n",
       "      <td>False</td>\n",
       "      <td>False</td>\n",
       "      <td>False</td>\n",
       "      <td>False</td>\n",
       "      <td>False</td>\n",
       "      <td>False</td>\n",
       "    </tr>\n",
       "    <tr>\n",
       "      <th>299</th>\n",
       "      <td>False</td>\n",
       "      <td>False</td>\n",
       "      <td>False</td>\n",
       "      <td>False</td>\n",
       "      <td>False</td>\n",
       "      <td>False</td>\n",
       "      <td>False</td>\n",
       "      <td>False</td>\n",
       "      <td>False</td>\n",
       "    </tr>\n",
       "    <tr>\n",
       "      <th>300</th>\n",
       "      <td>False</td>\n",
       "      <td>False</td>\n",
       "      <td>False</td>\n",
       "      <td>False</td>\n",
       "      <td>False</td>\n",
       "      <td>False</td>\n",
       "      <td>False</td>\n",
       "      <td>False</td>\n",
       "      <td>False</td>\n",
       "    </tr>\n",
       "  </tbody>\n",
       "</table>\n",
       "<p>301 rows × 9 columns</p>\n",
       "</div>"
      ],
      "text/plain": [
       "     Car_Name   Year  Selling_Price  Present_Price  Kms_Driven  Fuel_Type  \\\n",
       "0       False  False          False          False       False      False   \n",
       "1       False  False          False          False       False      False   \n",
       "2       False  False          False          False       False      False   \n",
       "3       False  False          False          False       False      False   \n",
       "4       False  False          False          False       False      False   \n",
       "..        ...    ...            ...            ...         ...        ...   \n",
       "296     False  False          False          False       False      False   \n",
       "297     False  False          False          False       False      False   \n",
       "298     False  False          False          False       False      False   \n",
       "299     False  False          False          False       False      False   \n",
       "300     False  False          False          False       False      False   \n",
       "\n",
       "     Seller_Type  Transmission  Owner  \n",
       "0          False         False  False  \n",
       "1          False         False  False  \n",
       "2          False         False  False  \n",
       "3          False         False  False  \n",
       "4          False         False  False  \n",
       "..           ...           ...    ...  \n",
       "296        False         False  False  \n",
       "297        False         False  False  \n",
       "298        False         False  False  \n",
       "299        False         False  False  \n",
       "300        False         False  False  \n",
       "\n",
       "[301 rows x 9 columns]"
      ]
     },
     "execution_count": 27,
     "metadata": {},
     "output_type": "execute_result"
    }
   ],
   "source": [
    "df.isnull()"
   ]
  },
  {
   "cell_type": "code",
   "execution_count": 28,
   "id": "e139aae6-3dc6-4f57-a697-ef9262fc3aec",
   "metadata": {},
   "outputs": [
    {
     "data": {
      "text/plain": [
       "Car_Name         0\n",
       "Year             0\n",
       "Selling_Price    0\n",
       "Present_Price    0\n",
       "Kms_Driven       0\n",
       "Fuel_Type        0\n",
       "Seller_Type      0\n",
       "Transmission     0\n",
       "Owner            0\n",
       "dtype: int64"
      ]
     },
     "execution_count": 28,
     "metadata": {},
     "output_type": "execute_result"
    }
   ],
   "source": [
    "df.isnull().sum()"
   ]
  },
  {
   "cell_type": "code",
   "execution_count": 29,
   "id": "60fcba9f-8d38-49c6-afbe-e4328fcb1315",
   "metadata": {},
   "outputs": [
    {
     "data": {
      "text/plain": [
       "Index             128\n",
       "Car_Name         2408\n",
       "Year             2408\n",
       "Selling_Price    2408\n",
       "Present_Price    2408\n",
       "Kms_Driven       2408\n",
       "Fuel_Type        2408\n",
       "Seller_Type      2408\n",
       "Transmission     2408\n",
       "Owner            2408\n",
       "dtype: int64"
      ]
     },
     "execution_count": 29,
     "metadata": {},
     "output_type": "execute_result"
    }
   ],
   "source": [
    "df.memory_usage()\n"
   ]
  },
  {
   "cell_type": "code",
   "execution_count": 30,
   "id": "b4a9a138-32e5-4483-a24e-0cee644795e8",
   "metadata": {},
   "outputs": [
    {
     "data": {
      "text/plain": [
       "2"
      ]
     },
     "execution_count": 30,
     "metadata": {},
     "output_type": "execute_result"
    }
   ],
   "source": [
    "df['Fuel_Type'].value_counts()['CNG']\n",
    "#df.Fuel_Type.value_counts()['CNG']"
   ]
  },
  {
   "cell_type": "code",
   "execution_count": 37,
   "id": "d92b1e5b-57f0-49b6-9a3e-b5d02d8b64db",
   "metadata": {},
   "outputs": [
    {
     "data": {
      "text/plain": [
       "([<matplotlib.patches.Wedge at 0x1eeec68bb80>,\n",
       "  <matplotlib.patches.Wedge at 0x1eeec264040>,\n",
       "  <matplotlib.patches.Wedge at 0x1eeec4eb1f0>],\n",
       " [Text(-0.8776154230777207, 0.6631675272328356, 'Petrol'),\n",
       "  Text(0.8635820276996969, -0.6813413839141726, 'CNG'),\n",
       "  Text(1.0997603522251278, -0.022960132265800064, 'Diesel')])"
      ]
     },
     "execution_count": 37,
     "metadata": {},
     "output_type": "execute_result"
    },
    {
     "data": {
      "image/png": "[encoded data removed]",
      "text/plain": [
       "<Figure size 640x480 with 1 Axes>"
      ]
     },
     "metadata": {},
     "output_type": "display_data"
    }
   ],
   "source": [
    "import matplotlib.pyplot as plt\n",
    "plt.pie(df.Fuel_Type.value_counts(), labels=['Petrol', 'CNG', 'Diesel'])"
   ]
  },
  {
   "cell_type": "code",
   "execution_count": 38,
   "id": "6137e98d-70e5-4491-9bba-3db2656f2462",
   "metadata": {},
   "outputs": [],
   "source": [
    "plt.show()"
   ]
  },
  {
   "cell_type": "code",
   "execution_count": 42,
   "id": "58f15cd0-9043-4d0a-acf3-b42a51585027",
   "metadata": {},
   "outputs": [
    {
     "data": {
      "text/plain": [
       "106"
      ]
     },
     "execution_count": 42,
     "metadata": {},
     "output_type": "execute_result"
    }
   ],
   "source": [
    "df.Seller_Type.value_counts()['Individual']"
   ]
  },
  {
   "cell_type": "code",
   "execution_count": 43,
   "id": "c671fcf4-b030-4169-b334-226742e09777",
   "metadata": {},
   "outputs": [
    {
     "data": {
      "text/plain": [
       "40"
      ]
     },
     "execution_count": 43,
     "metadata": {},
     "output_type": "execute_result"
    }
   ],
   "source": [
    "df.Transmission.value_counts()['Automatic']"
   ]
  },
  {
   "cell_type": "code",
   "execution_count": null,
   "id": "29833a6e-0274-4ace-883d-6d7ee6d357cf",
   "metadata": {},
   "outputs": [],
   "source": [
    "import sklearn"
   ]
  }
 ],
 "metadata": {
  "kernelspec": {
   "display_name": "Python 3 (ipykernel)",
   "language": "python",
   "name": "python3"
  },
  "language_info": {
   "codemirror_mode": {
    "name": "ipython",
    "version": 3
   },
   "file_extension": ".py",
   "mimetype": "text/x-python",
   "name": "python",
   "nbconvert_exporter": "python",
   "pygments_lexer": "ipython3",
   "version": "3.10.2"
  }
 },
 "nbformat": 4,
 "nbformat_minor": 5
}
